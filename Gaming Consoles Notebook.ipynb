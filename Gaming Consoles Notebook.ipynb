{
 "cells": [
  {
   "cell_type": "markdown",
   "metadata": {},
   "source": [
    "# Revisión (segunda iteración)\n",
    "\n",
    "Hola, José!\n",
    "\n",
    "Me da gusto continuar con la revisión de tu trabajo. Mi nombre es David Esparza Jasso. Puedes encontrar los comentarios de esta segunda iteración con un \"**V2**\" en su título."
   ]
  },
  {
   "cell_type": "markdown",
   "metadata": {},
   "source": [
    "<div class=\"alert alert-block alert-success\">\n",
    "<b>COMENTARIO GENERAL SEGUNDA REVISIÓN</b> <a class=\"tocSkip\"></a>\n",
    "\n",
    "José, felicidades! Tu trabajo está aprobado. No tengo más que decir, aplicaste las correcciones correctamente. Te dejé sólo un par de comentarios amarillos para que por favor los revises y te puedan ayudar para futuros trabajos :) También te respondí a una duda que me preguntaste en la sección de comprobación de hipótesis. Sigue esforzándote así.\n",
    "\n",
    "</div>"
   ]
  },
  {
   "cell_type": "markdown",
   "metadata": {},
   "source": [
    "# Revisión (primera iteración)\n",
    "\n",
    "Hola, José!\n",
    "\n",
    "Mi nombre es David Esparza Jasso y estoy feliz por revisar tu proyecto el día de hoy.\n",
    "\n",
    "\n",
    "\n",
    "Encontrarás mis comentarios abajo. - **por favor, no los muevas, modifiques o elimines**.\n",
    "\n",
    "\n",
    "Puedes encontrar mis comentarios en cajas verdes, amarillas y rojas como éstas:\n",
    "\n",
    "<div class=\"alert alert-block alert-success\">\n",
    "<b>Éxito</b> <a class=\"tocSkip\"></a>\n",
    "\n",
    "Correcto. Todo se hizo correctamente!\n",
    "</div>\n",
    "\n",
    "<div class=\"alert alert-block alert-warning\">\n",
    "<b>Atención</b> <a class=\"tocSkip\"></a>\n",
    "\n",
    "Observaciones. Algunas recomendaciones.\n",
    "</div>\n",
    "\n",
    "<div class=\"alert alert-block alert-danger\">\n",
    "\n",
    "<b>A resolver</b> <a class=\"tocSkip\"></a>\n",
    "\n",
    "Necesita correcciones. La parte correspondiente requiere algunas correcciones. El trabajo no puede ser aprobado con comentarios rojos sin corregir.\n",
    "</div>\n",
    "\n",
    "Puedes contestarme usando este tipo de cajas:\n",
    "\n",
    "<div class=\"alert alert-block alert-info\">\n",
    "<b>Respuesta del estudiante.</b> <a class=\"tocSkip\"></a>\n",
    "\n",
    "    \n",
    "En celdas como éstas puedes dejarme tus comentarios\n",
    "</div>\n",
    "\n",
    "Recuerda que, si deseas dejarme un comentario en alguna parte del documento, sólo tienes que dar doble clic sobre la celda de arriba, copiar el código, pegarlo en una nueva celda y sustituir la frase \"En celdas como éstas puedes dejarme tus comentarios\" por tu propio comentario. Asegúrate sólamente que la celda donde vayas a incluir tu comentario esté en formato \"Markdown\"."
   ]
  },
  {
   "cell_type": "markdown",
   "metadata": {},
   "source": [
    "<div class=\"alert alert-block alert-warning\">\n",
    "<b>COMENTARIO GENERAL PRIMERA REVISIÓN</b> <a class=\"tocSkip\"></a>\n",
    "\n",
    "José, buen trabajo en general! Veo que entiendes bien las funciones, las tablas dinámicas, la correlación como herramienta útil, haces bonitas gráficas, etc.\n",
    "    \n",
    "Aún queda un poco de trabajo por hacer, este proyecto era complicado, te quedan pocas correcciones pero sustanciales, por favor, corrígelas y reenvía tu trabajo. Vamos muy bien, y estoy seguro que esto que te queda puedes hacerlo fácilmente ;) Recuerda que si necesitas más apoyo también puedes acudir con tu tutor! saludos!\n",
    "\n",
    "</div>"
   ]
  },
  {
   "cell_type": "markdown",
   "metadata": {},
   "source": [
    "# Ice, games sales"
   ]
  },
  {
   "cell_type": "markdown",
   "metadata": {},
   "source": [
    "<div class=\"alert alert-block alert-success\">\n",
    "<b>Éxito</b> <a class=\"tocSkip\"></a>\n",
    "\n",
    "Muchas gracias por poner títulos y subtítulos, así como una tabla de contenidos!"
   ]
  },
  {
   "cell_type": "markdown",
   "metadata": {},
   "source": [
    "Objetivo del proyecto: Vamos a analizar las ventas de videojuegos a partir de los datos históricos que se tienen. Identificaremos patrones que determinen si un juego tiene éxito o no. Esto nos ayudará a planificar campañas publicitarias para próximos años."
   ]
  },
  {
   "cell_type": "markdown",
   "metadata": {},
   "source": [
    "Descripción de los datos\n",
    "- Name (Nombre)\n",
    "- Platform (Plataforma)\n",
    "- Year_of_Release (Año de lanzamiento)\n",
    "- Genre (Género)\n",
    "- NA_sales (ventas en Norteamérica en millones de dólares estadounidenses)\n",
    "- EU_sales (ventas en Europa en millones de dólares estadounidenses)\n",
    "- JP_sales (ventas en Japón en millones de dólares estadounidenses)\n",
    "- Other_sales (ventas en otros países en millones de dólares estadounidenses)\n",
    "- Critic_Score (máximo de 100)\n",
    "- User_Score (máximo de 10)\n",
    "- Clasificación (ESRB)"
   ]
  },
  {
   "cell_type": "markdown",
   "metadata": {},
   "source": [
    "Vamos a importar las libreríasn necesarias para el proyecto."
   ]
  },
  {
   "cell_type": "code",
   "execution_count": 1,
   "metadata": {},
   "outputs": [],
   "source": [
    "import pandas as pd\n",
    "import numpy as np\n",
    "from scipy import stats as st"
   ]
  },
  {
   "cell_type": "markdown",
   "metadata": {},
   "source": [
    "Vamos a importar la base de datos en formato CSV."
   ]
  },
  {
   "cell_type": "code",
   "execution_count": 2,
   "metadata": {},
   "outputs": [],
   "source": [
    "games = pd.read_csv('/datasets/games.csv')"
   ]
  },
  {
   "cell_type": "markdown",
   "metadata": {},
   "source": [
    "### Preprocesamiento de datos"
   ]
  },
  {
   "cell_type": "markdown",
   "metadata": {},
   "source": [
    "Vamos a echar un vistazo general a la base de datos para ver las columnas y sus formatos."
   ]
  },
  {
   "cell_type": "code",
   "execution_count": 3,
   "metadata": {},
   "outputs": [
    {
     "data": {
      "text/html": [
       "<div>\n",
       "<style scoped>\n",
       "    .dataframe tbody tr th:only-of-type {\n",
       "        vertical-align: middle;\n",
       "    }\n",
       "\n",
       "    .dataframe tbody tr th {\n",
       "        vertical-align: top;\n",
       "    }\n",
       "\n",
       "    .dataframe thead th {\n",
       "        text-align: right;\n",
       "    }\n",
       "</style>\n",
       "<table border=\"1\" class=\"dataframe\">\n",
       "  <thead>\n",
       "    <tr style=\"text-align: right;\">\n",
       "      <th></th>\n",
       "      <th>Name</th>\n",
       "      <th>Platform</th>\n",
       "      <th>Year_of_Release</th>\n",
       "      <th>Genre</th>\n",
       "      <th>NA_sales</th>\n",
       "      <th>EU_sales</th>\n",
       "      <th>JP_sales</th>\n",
       "      <th>Other_sales</th>\n",
       "      <th>Critic_Score</th>\n",
       "      <th>User_Score</th>\n",
       "      <th>Rating</th>\n",
       "    </tr>\n",
       "  </thead>\n",
       "  <tbody>\n",
       "    <tr>\n",
       "      <th>0</th>\n",
       "      <td>Wii Sports</td>\n",
       "      <td>Wii</td>\n",
       "      <td>2006.0</td>\n",
       "      <td>Sports</td>\n",
       "      <td>41.36</td>\n",
       "      <td>28.96</td>\n",
       "      <td>3.77</td>\n",
       "      <td>8.45</td>\n",
       "      <td>76.0</td>\n",
       "      <td>8</td>\n",
       "      <td>E</td>\n",
       "    </tr>\n",
       "    <tr>\n",
       "      <th>1</th>\n",
       "      <td>Super Mario Bros.</td>\n",
       "      <td>NES</td>\n",
       "      <td>1985.0</td>\n",
       "      <td>Platform</td>\n",
       "      <td>29.08</td>\n",
       "      <td>3.58</td>\n",
       "      <td>6.81</td>\n",
       "      <td>0.77</td>\n",
       "      <td>NaN</td>\n",
       "      <td>NaN</td>\n",
       "      <td>NaN</td>\n",
       "    </tr>\n",
       "    <tr>\n",
       "      <th>2</th>\n",
       "      <td>Mario Kart Wii</td>\n",
       "      <td>Wii</td>\n",
       "      <td>2008.0</td>\n",
       "      <td>Racing</td>\n",
       "      <td>15.68</td>\n",
       "      <td>12.76</td>\n",
       "      <td>3.79</td>\n",
       "      <td>3.29</td>\n",
       "      <td>82.0</td>\n",
       "      <td>8.3</td>\n",
       "      <td>E</td>\n",
       "    </tr>\n",
       "    <tr>\n",
       "      <th>3</th>\n",
       "      <td>Wii Sports Resort</td>\n",
       "      <td>Wii</td>\n",
       "      <td>2009.0</td>\n",
       "      <td>Sports</td>\n",
       "      <td>15.61</td>\n",
       "      <td>10.93</td>\n",
       "      <td>3.28</td>\n",
       "      <td>2.95</td>\n",
       "      <td>80.0</td>\n",
       "      <td>8</td>\n",
       "      <td>E</td>\n",
       "    </tr>\n",
       "    <tr>\n",
       "      <th>4</th>\n",
       "      <td>Pokemon Red/Pokemon Blue</td>\n",
       "      <td>GB</td>\n",
       "      <td>1996.0</td>\n",
       "      <td>Role-Playing</td>\n",
       "      <td>11.27</td>\n",
       "      <td>8.89</td>\n",
       "      <td>10.22</td>\n",
       "      <td>1.00</td>\n",
       "      <td>NaN</td>\n",
       "      <td>NaN</td>\n",
       "      <td>NaN</td>\n",
       "    </tr>\n",
       "  </tbody>\n",
       "</table>\n",
       "</div>"
      ],
      "text/plain": [
       "                       Name Platform  Year_of_Release         Genre  NA_sales  \\\n",
       "0                Wii Sports      Wii           2006.0        Sports     41.36   \n",
       "1         Super Mario Bros.      NES           1985.0      Platform     29.08   \n",
       "2            Mario Kart Wii      Wii           2008.0        Racing     15.68   \n",
       "3         Wii Sports Resort      Wii           2009.0        Sports     15.61   \n",
       "4  Pokemon Red/Pokemon Blue       GB           1996.0  Role-Playing     11.27   \n",
       "\n",
       "   EU_sales  JP_sales  Other_sales  Critic_Score User_Score Rating  \n",
       "0     28.96      3.77         8.45          76.0          8      E  \n",
       "1      3.58      6.81         0.77           NaN        NaN    NaN  \n",
       "2     12.76      3.79         3.29          82.0        8.3      E  \n",
       "3     10.93      3.28         2.95          80.0          8      E  \n",
       "4      8.89     10.22         1.00           NaN        NaN    NaN  "
      ]
     },
     "execution_count": 3,
     "metadata": {},
     "output_type": "execute_result"
    }
   ],
   "source": [
    "games.head()"
   ]
  },
  {
   "cell_type": "markdown",
   "metadata": {},
   "source": [
    "Vamos a ajustar el nombre de las columnas a minusculas."
   ]
  },
  {
   "cell_type": "code",
   "execution_count": 4,
   "metadata": {},
   "outputs": [],
   "source": [
    "games.columns = ['name', 'platform', 'year_of_release', 'genre', 'na_sales', 'eu_sales', 'jp_sales', 'other_sales', 'critic_score', 'user_score', 'rating']"
   ]
  },
  {
   "cell_type": "code",
   "execution_count": 5,
   "metadata": {},
   "outputs": [
    {
     "name": "stdout",
     "output_type": "stream",
     "text": [
      "<class 'pandas.core.frame.DataFrame'>\n",
      "RangeIndex: 16715 entries, 0 to 16714\n",
      "Data columns (total 11 columns):\n",
      " #   Column           Non-Null Count  Dtype  \n",
      "---  ------           --------------  -----  \n",
      " 0   name             16713 non-null  object \n",
      " 1   platform         16715 non-null  object \n",
      " 2   year_of_release  16446 non-null  float64\n",
      " 3   genre            16713 non-null  object \n",
      " 4   na_sales         16715 non-null  float64\n",
      " 5   eu_sales         16715 non-null  float64\n",
      " 6   jp_sales         16715 non-null  float64\n",
      " 7   other_sales      16715 non-null  float64\n",
      " 8   critic_score     8137 non-null   float64\n",
      " 9   user_score       10014 non-null  object \n",
      " 10  rating           9949 non-null   object \n",
      "dtypes: float64(6), object(5)\n",
      "memory usage: 1.4+ MB\n"
     ]
    }
   ],
   "source": [
    "games.info()"
   ]
  },
  {
   "cell_type": "markdown",
   "metadata": {},
   "source": [
    "<div class=\"alert alert-block alert-success\">\n",
    "<b>Éxito</b> <a class=\"tocSkip\"></a>\n",
    "\n",
    "Buen inicio! El read con la ruta correcta, el head, y el info!</div>"
   ]
  },
  {
   "cell_type": "markdown",
   "metadata": {},
   "source": [
    "Vamos a eliminar los valores ausentes de la columna year_of_release y a convertir a formato int."
   ]
  },
  {
   "cell_type": "code",
   "execution_count": 6,
   "metadata": {},
   "outputs": [],
   "source": [
    "games = games.dropna(subset = ['year_of_release'])"
   ]
  },
  {
   "cell_type": "code",
   "execution_count": 7,
   "metadata": {},
   "outputs": [],
   "source": [
    "games['year_of_release'] = games['year_of_release'].astype(int)"
   ]
  },
  {
   "cell_type": "code",
   "execution_count": 8,
   "metadata": {},
   "outputs": [
    {
     "name": "stdout",
     "output_type": "stream",
     "text": [
      "<class 'pandas.core.frame.DataFrame'>\n",
      "Int64Index: 16446 entries, 0 to 16714\n",
      "Data columns (total 11 columns):\n",
      " #   Column           Non-Null Count  Dtype  \n",
      "---  ------           --------------  -----  \n",
      " 0   name             16444 non-null  object \n",
      " 1   platform         16446 non-null  object \n",
      " 2   year_of_release  16446 non-null  int64  \n",
      " 3   genre            16444 non-null  object \n",
      " 4   na_sales         16446 non-null  float64\n",
      " 5   eu_sales         16446 non-null  float64\n",
      " 6   jp_sales         16446 non-null  float64\n",
      " 7   other_sales      16446 non-null  float64\n",
      " 8   critic_score     7983 non-null   float64\n",
      " 9   user_score       9839 non-null   object \n",
      " 10  rating           9768 non-null   object \n",
      "dtypes: float64(5), int64(1), object(5)\n",
      "memory usage: 1.5+ MB\n"
     ]
    }
   ],
   "source": [
    "games.info()"
   ]
  },
  {
   "cell_type": "markdown",
   "metadata": {},
   "source": [
    "<div class=\"alert alert-block alert-warning\">\n",
    "<b>Atención</b> <a class=\"tocSkip\"></a>\n",
    "\n",
    "No sería conveniente eliminar las filas con ausentes en el año de lanzamiento? son muy pocas</div>"
   ]
  },
  {
   "cell_type": "markdown",
   "metadata": {},
   "source": [
    "<div class=\"alert alert-block alert-info\">\n",
    "<b>Respuesta del estudiante.</b> <a class=\"tocSkip\"></a>\n",
    "\n",
    "    \n",
    "Tienes razón! Las eliminaré ahora."
   ]
  },
  {
   "cell_type": "markdown",
   "metadata": {},
   "source": [
    "<div class=\"alert alert-block alert-success\">\n",
    "<b>Éxito V2</b> <a class=\"tocSkip\"></a>\n",
    "\n",
    "Gracias por atender la recomendación! :)"
   ]
  },
  {
   "cell_type": "markdown",
   "metadata": {},
   "source": [
    "user_score tiene formato object. Vamos a cambiarla a númerica. Pero antes, vamos a cambiar los valores de tbd a NaN para poder cambiar el formato."
   ]
  },
  {
   "cell_type": "code",
   "execution_count": 9,
   "metadata": {},
   "outputs": [],
   "source": [
    "games.loc[games.user_score == 'tbd', 'user_score'] = np.nan"
   ]
  },
  {
   "cell_type": "markdown",
   "metadata": {},
   "source": [
    "<div class=\"alert alert-block alert-success\">\n",
    "<b>Éxito</b> <a class=\"tocSkip\"></a>\n",
    "\n",
    "Muy buena decisión la de arriba, así ya puedes convertir a float!</div>"
   ]
  },
  {
   "cell_type": "code",
   "execution_count": 10,
   "metadata": {},
   "outputs": [],
   "source": [
    "games['user_score'] = pd.to_numeric(games['user_score'])"
   ]
  },
  {
   "cell_type": "code",
   "execution_count": 11,
   "metadata": {
    "scrolled": true
   },
   "outputs": [
    {
     "name": "stdout",
     "output_type": "stream",
     "text": [
      "<class 'pandas.core.frame.DataFrame'>\n",
      "Int64Index: 16446 entries, 0 to 16714\n",
      "Data columns (total 11 columns):\n",
      " #   Column           Non-Null Count  Dtype  \n",
      "---  ------           --------------  -----  \n",
      " 0   name             16444 non-null  object \n",
      " 1   platform         16446 non-null  object \n",
      " 2   year_of_release  16446 non-null  int64  \n",
      " 3   genre            16444 non-null  object \n",
      " 4   na_sales         16446 non-null  float64\n",
      " 5   eu_sales         16446 non-null  float64\n",
      " 6   jp_sales         16446 non-null  float64\n",
      " 7   other_sales      16446 non-null  float64\n",
      " 8   critic_score     7983 non-null   float64\n",
      " 9   user_score       7463 non-null   float64\n",
      " 10  rating           9768 non-null   object \n",
      "dtypes: float64(6), int64(1), object(4)\n",
      "memory usage: 1.5+ MB\n"
     ]
    }
   ],
   "source": [
    "games.info()"
   ]
  },
  {
   "cell_type": "markdown",
   "metadata": {},
   "source": [
    "Hay valores nulos en las columnas de critic_score, user_score y rating. Sin embargo, esta información es necesaria para contestar las preguntas del negocio, por lo que no podemos inventarnos valores para estas columnas. Entonces pasaremos a dejar estas columnas con los valores nulos."
   ]
  },
  {
   "cell_type": "markdown",
   "metadata": {},
   "source": [
    "Para las columnas de name y genre, vamos a eliminar las dos filas que tienen valores ausentes en sus columnas ya que son muy pocas."
   ]
  },
  {
   "cell_type": "code",
   "execution_count": 12,
   "metadata": {},
   "outputs": [],
   "source": [
    "games = games.dropna(subset = ['name', 'genre'])"
   ]
  },
  {
   "cell_type": "markdown",
   "metadata": {},
   "source": [
    "<div class=\"alert alert-block alert-danger\">\n",
    "\n",
    "<b>A resolver</b> <a class=\"tocSkip\"></a>\n",
    "\n",
    "Ok, pero te faltó decir qué harás con el resto de columnas con valores ausentes y por qué. \n",
    "    \n",
    "* Para critic_score, user_score y rating es una posibilidad no hacer nada con los ausentes, pero debes explicar por qué si es que decides esta opción. \n",
    "\n",
    "* También la columna name y la columna genre tienen muuuy pocos ausentes, ¿qué sería bueno hacer con esas filas?\n",
    "</div>"
   ]
  },
  {
   "cell_type": "markdown",
   "metadata": {},
   "source": [
    "<div class=\"alert alert-block alert-info\">\n",
    "<b>Respuesta del estudiante.</b> <a class=\"tocSkip\"></a>\n",
    "\n",
    "    \n",
    "Tiene sentido. Ya quedó corregido."
   ]
  },
  {
   "cell_type": "markdown",
   "metadata": {},
   "source": [
    "<div class=\"alert alert-block alert-success\">\n",
    "<b>Éxito V2</b> <a class=\"tocSkip\"></a>\n",
    "\n",
    "Gracias, perfectamente aplicada la corrección!"
   ]
  },
  {
   "cell_type": "markdown",
   "metadata": {},
   "source": [
    "Ahora vamos a calcular las ventas totales de todas las regiones y almacenarla en la variable total_sales."
   ]
  },
  {
   "cell_type": "code",
   "execution_count": 13,
   "metadata": {},
   "outputs": [],
   "source": [
    "games['total_sales'] = games['na_sales'] + games['eu_sales'] + games['jp_sales'] + games['other_sales']"
   ]
  },
  {
   "cell_type": "code",
   "execution_count": 14,
   "metadata": {},
   "outputs": [
    {
     "data": {
      "text/html": [
       "<div>\n",
       "<style scoped>\n",
       "    .dataframe tbody tr th:only-of-type {\n",
       "        vertical-align: middle;\n",
       "    }\n",
       "\n",
       "    .dataframe tbody tr th {\n",
       "        vertical-align: top;\n",
       "    }\n",
       "\n",
       "    .dataframe thead th {\n",
       "        text-align: right;\n",
       "    }\n",
       "</style>\n",
       "<table border=\"1\" class=\"dataframe\">\n",
       "  <thead>\n",
       "    <tr style=\"text-align: right;\">\n",
       "      <th></th>\n",
       "      <th>name</th>\n",
       "      <th>platform</th>\n",
       "      <th>year_of_release</th>\n",
       "      <th>genre</th>\n",
       "      <th>na_sales</th>\n",
       "      <th>eu_sales</th>\n",
       "      <th>jp_sales</th>\n",
       "      <th>other_sales</th>\n",
       "      <th>critic_score</th>\n",
       "      <th>user_score</th>\n",
       "      <th>rating</th>\n",
       "      <th>total_sales</th>\n",
       "    </tr>\n",
       "  </thead>\n",
       "  <tbody>\n",
       "    <tr>\n",
       "      <th>0</th>\n",
       "      <td>Wii Sports</td>\n",
       "      <td>Wii</td>\n",
       "      <td>2006</td>\n",
       "      <td>Sports</td>\n",
       "      <td>41.36</td>\n",
       "      <td>28.96</td>\n",
       "      <td>3.77</td>\n",
       "      <td>8.45</td>\n",
       "      <td>76.0</td>\n",
       "      <td>8.0</td>\n",
       "      <td>E</td>\n",
       "      <td>82.54</td>\n",
       "    </tr>\n",
       "    <tr>\n",
       "      <th>1</th>\n",
       "      <td>Super Mario Bros.</td>\n",
       "      <td>NES</td>\n",
       "      <td>1985</td>\n",
       "      <td>Platform</td>\n",
       "      <td>29.08</td>\n",
       "      <td>3.58</td>\n",
       "      <td>6.81</td>\n",
       "      <td>0.77</td>\n",
       "      <td>NaN</td>\n",
       "      <td>NaN</td>\n",
       "      <td>NaN</td>\n",
       "      <td>40.24</td>\n",
       "    </tr>\n",
       "    <tr>\n",
       "      <th>2</th>\n",
       "      <td>Mario Kart Wii</td>\n",
       "      <td>Wii</td>\n",
       "      <td>2008</td>\n",
       "      <td>Racing</td>\n",
       "      <td>15.68</td>\n",
       "      <td>12.76</td>\n",
       "      <td>3.79</td>\n",
       "      <td>3.29</td>\n",
       "      <td>82.0</td>\n",
       "      <td>8.3</td>\n",
       "      <td>E</td>\n",
       "      <td>35.52</td>\n",
       "    </tr>\n",
       "    <tr>\n",
       "      <th>3</th>\n",
       "      <td>Wii Sports Resort</td>\n",
       "      <td>Wii</td>\n",
       "      <td>2009</td>\n",
       "      <td>Sports</td>\n",
       "      <td>15.61</td>\n",
       "      <td>10.93</td>\n",
       "      <td>3.28</td>\n",
       "      <td>2.95</td>\n",
       "      <td>80.0</td>\n",
       "      <td>8.0</td>\n",
       "      <td>E</td>\n",
       "      <td>32.77</td>\n",
       "    </tr>\n",
       "    <tr>\n",
       "      <th>4</th>\n",
       "      <td>Pokemon Red/Pokemon Blue</td>\n",
       "      <td>GB</td>\n",
       "      <td>1996</td>\n",
       "      <td>Role-Playing</td>\n",
       "      <td>11.27</td>\n",
       "      <td>8.89</td>\n",
       "      <td>10.22</td>\n",
       "      <td>1.00</td>\n",
       "      <td>NaN</td>\n",
       "      <td>NaN</td>\n",
       "      <td>NaN</td>\n",
       "      <td>31.38</td>\n",
       "    </tr>\n",
       "  </tbody>\n",
       "</table>\n",
       "</div>"
      ],
      "text/plain": [
       "                       name platform  year_of_release         genre  na_sales  \\\n",
       "0                Wii Sports      Wii             2006        Sports     41.36   \n",
       "1         Super Mario Bros.      NES             1985      Platform     29.08   \n",
       "2            Mario Kart Wii      Wii             2008        Racing     15.68   \n",
       "3         Wii Sports Resort      Wii             2009        Sports     15.61   \n",
       "4  Pokemon Red/Pokemon Blue       GB             1996  Role-Playing     11.27   \n",
       "\n",
       "   eu_sales  jp_sales  other_sales  critic_score  user_score rating  \\\n",
       "0     28.96      3.77         8.45          76.0         8.0      E   \n",
       "1      3.58      6.81         0.77           NaN         NaN    NaN   \n",
       "2     12.76      3.79         3.29          82.0         8.3      E   \n",
       "3     10.93      3.28         2.95          80.0         8.0      E   \n",
       "4      8.89     10.22         1.00           NaN         NaN    NaN   \n",
       "\n",
       "   total_sales  \n",
       "0        82.54  \n",
       "1        40.24  \n",
       "2        35.52  \n",
       "3        32.77  \n",
       "4        31.38  "
      ]
     },
     "execution_count": 14,
     "metadata": {},
     "output_type": "execute_result"
    }
   ],
   "source": [
    "games.head()"
   ]
  },
  {
   "cell_type": "markdown",
   "metadata": {},
   "source": [
    "### Análisis de datos"
   ]
  },
  {
   "cell_type": "markdown",
   "metadata": {},
   "source": [
    "Vamos a hacer un analisis con una tabla dinamica para observar las fechas de lanzamiento a través de los años."
   ]
  },
  {
   "cell_type": "code",
   "execution_count": 15,
   "metadata": {
    "scrolled": false
   },
   "outputs": [
    {
     "data": {
      "text/plain": [
       "<AxesSubplot:xlabel='year_of_release'>"
      ]
     },
     "execution_count": 15,
     "metadata": {},
     "output_type": "execute_result"
    },
    {
     "data": {
      "image/png": "[encoded data removed]",
      "text/plain": [
       "<Figure size 1440x360 with 1 Axes>"
      ]
     },
     "metadata": {
      "needs_background": "light"
     },
     "output_type": "display_data"
    }
   ],
   "source": [
    "games_release_year_pivot = games.pivot_table(index='year_of_release', values='platform', aggfunc='count')\n",
    "games_release_year_pivot.plot(kind='bar', figsize=(20,5))"
   ]
  },
  {
   "cell_type": "markdown",
   "metadata": {},
   "source": [
    "A partir de 1994, los lanzamientos de juegos comenzaron a subir, hasta llegar en su punto máximo el año 2008 y 2009."
   ]
  },
  {
   "cell_type": "markdown",
   "metadata": {},
   "source": [
    "Ahora, vamos a observar las ventas totales por plataforma para ver cuales han tenido mayor éxito."
   ]
  },
  {
   "cell_type": "code",
   "execution_count": 16,
   "metadata": {},
   "outputs": [
    {
     "data": {
      "text/plain": [
       "<AxesSubplot:xlabel='platform'>"
      ]
     },
     "execution_count": 16,
     "metadata": {},
     "output_type": "execute_result"
    },
    {
     "data": {
      "image/png": "[encoded data removed]",
      "text/plain": [
       "<Figure size 1440x360 with 1 Axes>"
      ]
     },
     "metadata": {
      "needs_background": "light"
     },
     "output_type": "display_data"
    }
   ],
   "source": [
    "games_platform_pivot = games.pivot_table(index='platform', values='total_sales', aggfunc='sum')\n",
    "games_platform_pivot.plot(kind='bar', figsize=(20,5))"
   ]
  },
  {
   "cell_type": "code",
   "execution_count": 17,
   "metadata": {},
   "outputs": [
    {
     "data": {
      "text/html": [
       "<div>\n",
       "<style scoped>\n",
       "    .dataframe tbody tr th:only-of-type {\n",
       "        vertical-align: middle;\n",
       "    }\n",
       "\n",
       "    .dataframe tbody tr th {\n",
       "        vertical-align: top;\n",
       "    }\n",
       "\n",
       "    .dataframe thead th {\n",
       "        text-align: right;\n",
       "    }\n",
       "</style>\n",
       "<table border=\"1\" class=\"dataframe\">\n",
       "  <thead>\n",
       "    <tr style=\"text-align: right;\">\n",
       "      <th></th>\n",
       "      <th>total_sales</th>\n",
       "    </tr>\n",
       "    <tr>\n",
       "      <th>platform</th>\n",
       "      <th></th>\n",
       "    </tr>\n",
       "  </thead>\n",
       "  <tbody>\n",
       "    <tr>\n",
       "      <th>PS2</th>\n",
       "      <td>1233.56</td>\n",
       "    </tr>\n",
       "    <tr>\n",
       "      <th>X360</th>\n",
       "      <td>961.24</td>\n",
       "    </tr>\n",
       "    <tr>\n",
       "      <th>PS3</th>\n",
       "      <td>931.34</td>\n",
       "    </tr>\n",
       "    <tr>\n",
       "      <th>Wii</th>\n",
       "      <td>891.18</td>\n",
       "    </tr>\n",
       "    <tr>\n",
       "      <th>DS</th>\n",
       "      <td>802.78</td>\n",
       "    </tr>\n",
       "  </tbody>\n",
       "</table>\n",
       "</div>"
      ],
      "text/plain": [
       "          total_sales\n",
       "platform             \n",
       "PS2           1233.56\n",
       "X360           961.24\n",
       "PS3            931.34\n",
       "Wii            891.18\n",
       "DS             802.78"
      ]
     },
     "execution_count": 17,
     "metadata": {},
     "output_type": "execute_result"
    }
   ],
   "source": [
    "games_platform_pivot.sort_values(by='total_sales', ascending=False).head()"
   ]
  },
  {
   "cell_type": "markdown",
   "metadata": {},
   "source": [
    "Las plataformas con ventas más altas son: \n",
    "- #1 Playstation 2\n",
    "- #2 Xbox 360\n",
    "- #3 Playstation 3 \n",
    "- #4 Wii \n",
    "- #5 Nintendo DS."
   ]
  },
  {
   "cell_type": "markdown",
   "metadata": {},
   "source": [
    "Observando los valores de algunas plataformas, muchas tienen valores no relevantes, por lo que vamos a filtrar estas plataformas para tenener una gráfica más concisa. Además, vamos a filtrar por año para ver los lanzamientos a través del tiempo a partir del año 1991."
   ]
  },
  {
   "cell_type": "code",
   "execution_count": 18,
   "metadata": {},
   "outputs": [],
   "source": [
    "games_filtered = games.query('platform ==[\"DS\", \"PS\", \"PS2\", \"PS3\",\"Wii\", \"X360\", \"XB\"] & year_of_release > 1990')"
   ]
  },
  {
   "cell_type": "code",
   "execution_count": 19,
   "metadata": {},
   "outputs": [
    {
     "data": {
      "text/plain": [
       "<AxesSubplot:xlabel='year_of_release'>"
      ]
     },
     "execution_count": 19,
     "metadata": {},
     "output_type": "execute_result"
    },
    {
     "data": {
      "image/png": "[encoded data removed]",
      "text/plain": [
       "<Figure size 1440x360 with 1 Axes>"
      ]
     },
     "metadata": {
      "needs_background": "light"
     },
     "output_type": "display_data"
    }
   ],
   "source": [
    "games_filtered_release_year_platform_pivot = games_filtered.pivot_table(index='year_of_release', columns='platform', values='total_sales', aggfunc='sum')\n",
    "games_filtered_release_year_platform_pivot.plot(kind='bar', figsize=(20,5))"
   ]
  },
  {
   "cell_type": "markdown",
   "metadata": {},
   "source": [
    "- El PS2 comenzó a tener ventas a partir del 2000, teniendo su pico mas alto en el 2004. Sin embargo a partir de ese año se ve una baja en las ventas de esta plataforma. Le tomó 4 años llegar a su pico más alto y le tomó 6 años volver hasta abajo.\n",
    "- El PS1 comenzó a tener ventas en 1994, teniendo su pico más alto 4 años después en 1998. Le tomaron otros 4 años para volver a no tener ventas.\n",
    "- El PS3 comenzó a tener ventas en el 2006, teniendo su pico más alto en el 2011 (5 años después) y comenzó a bajar durante 5 años hasta que llegó a tener ventas muy bajas en el 2016.\n",
    "- El Xbox 360 comenzó a tener ventas en el 2005, teniendo su pico más alto en el 2010 (5 años después)y comenzó a bajar hasta tener casi ventas nulas en el 2016.\n",
    "- El Wii comenzó a tener ventas en el 2006, alcanzando su pico máximo en 2009, solo 3 años despues de su lanzamiento, y fue perdiendo su popularidad hasta llegar al 2014 (5 años después)."
   ]
  },
  {
   "cell_type": "markdown",
   "metadata": {},
   "source": [
    "Viendo estos datos podemos asumir que el tiempo aproximado para que una plataforma llegue a su punto de ventas más alta es de 4 a 5 años, después comienza a desplomarse poco a poco durante 5 años aproximadamente. El tiempo total de vida de una plataforma es de approx 10 años."
   ]
  },
  {
   "cell_type": "markdown",
   "metadata": {},
   "source": [
    "<div class=\"alert alert-block alert-success\">\n",
    "<b>Éxito</b> <a class=\"tocSkip\"></a>\n",
    "\n",
    "Muy buen empleo de las gráficas de barras, sobre todo esta última, y buena estrategia para ver cuántos años dura en el mercado una consola, así como tu conclusión</div>"
   ]
  },
  {
   "cell_type": "markdown",
   "metadata": {},
   "source": [
    "Vamos a analizar los datos de los ultimos 6 años para ver cuales plataformas van en auge y cuales van en picada y poder determinar que juegos tienen potencial para el 2017."
   ]
  },
  {
   "cell_type": "markdown",
   "metadata": {},
   "source": [
    "<div class=\"alert alert-block alert-success\">\n",
    "<b>Éxito</b> <a class=\"tocSkip\"></a>\n",
    "\n",
    "Excelente decisión del periodo de tiempo para tomar tus datos</div>"
   ]
  },
  {
   "cell_type": "code",
   "execution_count": 20,
   "metadata": {},
   "outputs": [
    {
     "data": {
      "text/plain": [
       "<AxesSubplot:xlabel='year_of_release'>"
      ]
     },
     "execution_count": 20,
     "metadata": {},
     "output_type": "execute_result"
    },
    {
     "data": {
      "image/png": "[encoded data removed]",
      "text/plain": [
       "<Figure size 1440x360 with 1 Axes>"
      ]
     },
     "metadata": {
      "needs_background": "light"
     },
     "output_type": "display_data"
    }
   ],
   "source": [
    "games_filtered_2011_2016 = games.query('year_of_release > 2010')\n",
    "games_filtered_2011_2016.pivot_table(index='year_of_release', columns='platform', values='total_sales', aggfunc='sum').plot(kind='bar', figsize=(20,5))"
   ]
  },
  {
   "cell_type": "markdown",
   "metadata": {},
   "source": [
    "Con la tabla anterior podemos ver que el PS4 comenzó a tener ventas en el 2013 (año de su lanzamiento) y comienza a subir sus ventas. Gracias a las tendencias vistas anteriormente, podemos esperar que llegue a su pico máximo en el 2016 o 2017. También, el Xbox One está comenzando a subir y apenas tiene 4 años de su lanzamiento, por lo que también podemos esperar que llegue a su punto máximo en el 2016 o 2017. Por otra parte, el Xbox 360, el PS3 y el 3DS van en decremento en los ultimos años y muy probablemente no vuelvan a subir. "
   ]
  },
  {
   "cell_type": "markdown",
   "metadata": {},
   "source": [
    "<div class=\"alert alert-block alert-danger\">\n",
    "<b>A resolver</b> <a class=\"tocSkip\"></a>\n",
    "\n",
    "Cuidado! las ventas de 2016 no son tan fiables para **este** análisis de arriba en particular porque se nos dice que son datos de un 2016 inconcluso, o sea que se tomaron los datos cuando aún no se acababa el año. **Pero no cambies nada de tu código**, sólo tus conclusiones y tus elecciones de consolas potencialmente rentables hazlas observando los datos de tu gráfica **hasta** el año 2015.</div>"
   ]
  },
  {
   "cell_type": "markdown",
   "metadata": {},
   "source": [
    "<div class=\"alert alert-block alert-info\">\n",
    "<b>Respuesta del estudiante.</b> <a class=\"tocSkip\"></a>\n",
    "\n",
    "    \n",
    "Ok tiene sentido! Quedó corregida la conclusión. Gracias!"
   ]
  },
  {
   "cell_type": "markdown",
   "metadata": {},
   "source": [
    "<div class=\"alert alert-block alert-success\">\n",
    "<b>Éxito V2</b> <a class=\"tocSkip\"></a>\n",
    "\n",
    "Gracias por atender la corrección! :)"
   ]
  },
  {
   "cell_type": "markdown",
   "metadata": {},
   "source": [
    "Las plataformas potencialmente rentables son:\n",
    "- PS4\n",
    "- Xbox One"
   ]
  },
  {
   "cell_type": "markdown",
   "metadata": {},
   "source": [
    "Vamos a crear un diagrama de caja de las ventas globales de todos los juegos para ver las diferencias entre ellas."
   ]
  },
  {
   "cell_type": "code",
   "execution_count": 56,
   "metadata": {},
   "outputs": [
    {
     "data": {
      "text/plain": [
       "<AxesSubplot:title={'center':'total_sales'}, xlabel='platform'>"
      ]
     },
     "execution_count": 56,
     "metadata": {},
     "output_type": "execute_result"
    },
    {
     "data": {
      "image/png": "[encoded data removed]",
      "text/plain": [
       "<Figure size 360x720 with 1 Axes>"
      ]
     },
     "metadata": {
      "needs_background": "light"
     },
     "output_type": "display_data"
    }
   ],
   "source": [
    "games_filtered_2011_2016.boxplot(column='total_sales', by='platform', figsize=(5,10))"
   ]
  },
  {
   "cell_type": "markdown",
   "metadata": {},
   "source": [
    "<div class=\"alert alert-block alert-danger\">\n",
    "\n",
    "<b>A resolver</b> <a class=\"tocSkip\"></a>\n",
    "\n",
    "Sólo una pequeña corrección: se te pide hacer tus boxplots por plataforma, entonces tu gráfica de abajo es incorrecta, solamente en tu boxplot de arriba debes especificar el atributo `by='platform'`. Es decir:\n",
    "    \n",
    "`games_filtered_2011_2016.boxplot(column='total_sales', by='platform', figsize=(5,10))`\n",
    "    \n",
    "**No olvides describir tus observaciones de la gráfica corregida**\n",
    "</div>"
   ]
  },
  {
   "cell_type": "markdown",
   "metadata": {},
   "source": [
    "<div class=\"alert alert-block alert-info\">\n",
    "<b>Respuesta del estudiante.</b> <a class=\"tocSkip\"></a>\n",
    "\n",
    "    \n",
    "Muchas gracias. No sabía que podían hacerse boxplots así. Ya quedó corregido."
   ]
  },
  {
   "cell_type": "markdown",
   "metadata": {},
   "source": [
    "<div class=\"alert alert-block alert-warning\">\n",
    "<b>Atención V2</b> <a class=\"tocSkip\"></a>\n",
    "\n",
    "Genial! sólo pudiste haber jugado con las opciones del tamaño de la gráfica y de los límites del eje y, para poder visualizar mejor sólo las cajas :)</div>"
   ]
  },
  {
   "cell_type": "markdown",
   "metadata": {},
   "source": [
    "Podemos observar que en todas las plataformas hay muchos datos fuera de serie, o sea que son mayores a Q3 e inclusive al \"Q3 + 1.5 IQR\". Unicamente en la plataforma de PS2 no hay datos fuera de serie."
   ]
  },
  {
   "cell_type": "code",
   "execution_count": 22,
   "metadata": {},
   "outputs": [
    {
     "data": {
      "text/plain": [
       "<AxesSubplot:>"
      ]
     },
     "execution_count": 22,
     "metadata": {},
     "output_type": "execute_result"
    },
    {
     "data": {
      "image/png": "[encoded data removed]",
      "text/plain": [
       "<Figure size 360x720 with 1 Axes>"
      ]
     },
     "metadata": {
      "needs_background": "light"
     },
     "output_type": "display_data"
    }
   ],
   "source": [
    "games_filtered_2011_2016.pivot_table(index='platform', values='total_sales').boxplot(figsize=(5,10))\n",
    "\n",
    "#games_filtered_2011_2016.groupby('platform')['total_sales'].mean().reset_index().boxplot(figsize=(5,10))"
   ]
  },
  {
   "cell_type": "markdown",
   "metadata": {},
   "source": [
    "Sin embargo, cuando agrupamos por plataforma y hacemos un promedio, las ventas se ven con una mejor distribución sin fueras de serie."
   ]
  },
  {
   "cell_type": "markdown",
   "metadata": {},
   "source": [
    "Vamos buscar la correlación de las ventas totales de la plataforma PS2 y el score tanto de profesionales, como de usuarios."
   ]
  },
  {
   "cell_type": "code",
   "execution_count": 23,
   "metadata": {},
   "outputs": [
    {
     "data": {
      "text/html": [
       "<div>\n",
       "<style scoped>\n",
       "    .dataframe tbody tr th:only-of-type {\n",
       "        vertical-align: middle;\n",
       "    }\n",
       "\n",
       "    .dataframe tbody tr th {\n",
       "        vertical-align: top;\n",
       "    }\n",
       "\n",
       "    .dataframe thead th {\n",
       "        text-align: right;\n",
       "    }\n",
       "</style>\n",
       "<table border=\"1\" class=\"dataframe\">\n",
       "  <thead>\n",
       "    <tr style=\"text-align: right;\">\n",
       "      <th></th>\n",
       "      <th>year_of_release</th>\n",
       "      <th>na_sales</th>\n",
       "      <th>eu_sales</th>\n",
       "      <th>jp_sales</th>\n",
       "      <th>other_sales</th>\n",
       "      <th>critic_score</th>\n",
       "      <th>user_score</th>\n",
       "      <th>total_sales</th>\n",
       "    </tr>\n",
       "  </thead>\n",
       "  <tbody>\n",
       "    <tr>\n",
       "      <th>year_of_release</th>\n",
       "      <td>1.000000</td>\n",
       "      <td>-0.154542</td>\n",
       "      <td>-0.205740</td>\n",
       "      <td>-0.105095</td>\n",
       "      <td>0.007861</td>\n",
       "      <td>-0.101062</td>\n",
       "      <td>-0.095040</td>\n",
       "      <td>-0.159505</td>\n",
       "    </tr>\n",
       "    <tr>\n",
       "      <th>na_sales</th>\n",
       "      <td>-0.154542</td>\n",
       "      <td>1.000000</td>\n",
       "      <td>0.664111</td>\n",
       "      <td>0.202004</td>\n",
       "      <td>0.566716</td>\n",
       "      <td>0.395324</td>\n",
       "      <td>0.172342</td>\n",
       "      <td>0.922023</td>\n",
       "    </tr>\n",
       "    <tr>\n",
       "      <th>eu_sales</th>\n",
       "      <td>-0.205740</td>\n",
       "      <td>0.664111</td>\n",
       "      <td>1.000000</td>\n",
       "      <td>0.228208</td>\n",
       "      <td>0.305354</td>\n",
       "      <td>0.300186</td>\n",
       "      <td>0.129374</td>\n",
       "      <td>0.784544</td>\n",
       "    </tr>\n",
       "    <tr>\n",
       "      <th>jp_sales</th>\n",
       "      <td>-0.105095</td>\n",
       "      <td>0.202004</td>\n",
       "      <td>0.228208</td>\n",
       "      <td>1.000000</td>\n",
       "      <td>0.176649</td>\n",
       "      <td>0.218858</td>\n",
       "      <td>0.149472</td>\n",
       "      <td>0.402724</td>\n",
       "    </tr>\n",
       "    <tr>\n",
       "      <th>other_sales</th>\n",
       "      <td>0.007861</td>\n",
       "      <td>0.566716</td>\n",
       "      <td>0.305354</td>\n",
       "      <td>0.176649</td>\n",
       "      <td>1.000000</td>\n",
       "      <td>0.210862</td>\n",
       "      <td>0.074949</td>\n",
       "      <td>0.714223</td>\n",
       "    </tr>\n",
       "    <tr>\n",
       "      <th>critic_score</th>\n",
       "      <td>-0.101062</td>\n",
       "      <td>0.395324</td>\n",
       "      <td>0.300186</td>\n",
       "      <td>0.218858</td>\n",
       "      <td>0.210862</td>\n",
       "      <td>1.000000</td>\n",
       "      <td>0.565841</td>\n",
       "      <td>0.392536</td>\n",
       "    </tr>\n",
       "    <tr>\n",
       "      <th>user_score</th>\n",
       "      <td>-0.095040</td>\n",
       "      <td>0.172342</td>\n",
       "      <td>0.129374</td>\n",
       "      <td>0.149472</td>\n",
       "      <td>0.074949</td>\n",
       "      <td>0.565841</td>\n",
       "      <td>1.000000</td>\n",
       "      <td>0.175055</td>\n",
       "    </tr>\n",
       "    <tr>\n",
       "      <th>total_sales</th>\n",
       "      <td>-0.159505</td>\n",
       "      <td>0.922023</td>\n",
       "      <td>0.784544</td>\n",
       "      <td>0.402724</td>\n",
       "      <td>0.714223</td>\n",
       "      <td>0.392536</td>\n",
       "      <td>0.175055</td>\n",
       "      <td>1.000000</td>\n",
       "    </tr>\n",
       "  </tbody>\n",
       "</table>\n",
       "</div>"
      ],
      "text/plain": [
       "                 year_of_release  na_sales  eu_sales  jp_sales  other_sales  \\\n",
       "year_of_release         1.000000 -0.154542 -0.205740 -0.105095     0.007861   \n",
       "na_sales               -0.154542  1.000000  0.664111  0.202004     0.566716   \n",
       "eu_sales               -0.205740  0.664111  1.000000  0.228208     0.305354   \n",
       "jp_sales               -0.105095  0.202004  0.228208  1.000000     0.176649   \n",
       "other_sales             0.007861  0.566716  0.305354  0.176649     1.000000   \n",
       "critic_score           -0.101062  0.395324  0.300186  0.218858     0.210862   \n",
       "user_score             -0.095040  0.172342  0.129374  0.149472     0.074949   \n",
       "total_sales            -0.159505  0.922023  0.784544  0.402724     0.714223   \n",
       "\n",
       "                 critic_score  user_score  total_sales  \n",
       "year_of_release     -0.101062   -0.095040    -0.159505  \n",
       "na_sales             0.395324    0.172342     0.922023  \n",
       "eu_sales             0.300186    0.129374     0.784544  \n",
       "jp_sales             0.218858    0.149472     0.402724  \n",
       "other_sales          0.210862    0.074949     0.714223  \n",
       "critic_score         1.000000    0.565841     0.392536  \n",
       "user_score           0.565841    1.000000     0.175055  \n",
       "total_sales          0.392536    0.175055     1.000000  "
      ]
     },
     "execution_count": 23,
     "metadata": {},
     "output_type": "execute_result"
    }
   ],
   "source": [
    "games_ps2 = games.query('platform == \"PS2\"')\n",
    "\n",
    "games_ps2.corr()"
   ]
  },
  {
   "cell_type": "markdown",
   "metadata": {},
   "source": [
    "<div class=\"alert alert-block alert-success\">\n",
    "<b>Éxito</b> <a class=\"tocSkip\"></a>\n",
    "\n",
    "Buen checking de la correlación</div>"
   ]
  },
  {
   "cell_type": "code",
   "execution_count": 24,
   "metadata": {},
   "outputs": [
    {
     "data": {
      "text/plain": [
       "<AxesSubplot:xlabel='critic_score', ylabel='total_sales'>"
      ]
     },
     "execution_count": 24,
     "metadata": {},
     "output_type": "execute_result"
    },
    {
     "data": {
      "image/png": "[encoded data removed]",
      "text/plain": [
       "<Figure size 432x288 with 1 Axes>"
      ]
     },
     "metadata": {
      "needs_background": "light"
     },
     "output_type": "display_data"
    }
   ],
   "source": [
    "games_ps2.plot.scatter(x='critic_score', y='total_sales', alpha=.08)"
   ]
  },
  {
   "cell_type": "markdown",
   "metadata": {},
   "source": [
    "<div class=\"alert alert-block alert-danger\">\n",
    "\n",
    "<b>A resolver</b> <a class=\"tocSkip\"></a>\n",
    "\n",
    "Bonitos estilos de gráfica de dispersión! sólo una corrección: Las ventas totales son tu variable dependiente, así que las ventas totales deben ir en el eje y, y las score en el eje x.\n",
    "</div>"
   ]
  },
  {
   "cell_type": "markdown",
   "metadata": {},
   "source": [
    "<div class=\"alert alert-block alert-info\">\n",
    "<b>Respuesta del estudiante.</b> <a class=\"tocSkip\"></a>\n",
    "\n",
    "    \n",
    "Tiene sentido. Ya quedó corregido. Gracias!"
   ]
  },
  {
   "cell_type": "markdown",
   "metadata": {},
   "source": [
    "<div class=\"alert alert-block alert-success\">\n",
    "<b>Éxito V2</b> <a class=\"tocSkip\"></a>\n",
    "\n",
    "Excelente! Así podemos visualizar de forma más natural cómo dependen las ventas de las críticas, si es que dependen.    \n",
    "</div>"
   ]
  },
  {
   "cell_type": "code",
   "execution_count": 25,
   "metadata": {},
   "outputs": [
    {
     "data": {
      "text/plain": [
       "<AxesSubplot:xlabel='user_score', ylabel='total_sales'>"
      ]
     },
     "execution_count": 25,
     "metadata": {},
     "output_type": "execute_result"
    },
    {
     "data": {
      "image/png": "[encoded data removed]",
      "text/plain": [
       "<Figure size 432x288 with 1 Axes>"
      ]
     },
     "metadata": {
      "needs_background": "light"
     },
     "output_type": "display_data"
    }
   ],
   "source": [
    "games_ps2.plot.scatter(x='user_score', y='total_sales', alpha=.08)"
   ]
  },
  {
   "cell_type": "markdown",
   "metadata": {},
   "source": [
    "Observando el coefeciente de correlación de Pearson y junto con las gráficas, podemos ver que sí hay una correlación positiva entre las ventas totales de la plataforma PS2 y las críticas de usuarios y profesionales. Sin embargo, ambas son bajas. La correlación de los críticos es de 0.39 y el de lo usuarios de 0.17"
   ]
  },
  {
   "cell_type": "markdown",
   "metadata": {},
   "source": [
    "<div class=\"alert alert-block alert-success\">\n",
    "<b>Éxito</b> <a class=\"tocSkip\"></a>\n",
    "\n",
    "Bien dicho!</div>"
   ]
  },
  {
   "cell_type": "markdown",
   "metadata": {},
   "source": [
    "<div class=\"alert alert-block alert-danger\">\n",
    "\n",
    "<b>A resolver</b> <a class=\"tocSkip\"></a>\n",
    "\n",
    "Aquí abajo te falta responder a una pregunta del brief:\n",
    "    \n",
    "* `Teniendo en cuenta tus conclusiones compara las ventas de los mismos juegos en otras plataformas.`\n",
    "    \n",
    "Te doy unas pistas: puedes revisar en tu dataframe games_filtered_2011_2016 cuáles han sido los 10 juegos con más ventas totales. Luego, revisar cuáles de esos juegos han salido en más de una consola, de alguna manera (por ejemplo, con filtros). Posteriormente, debes crear un dataframe con los juegos multiplataforma más vendidos que hayas encontrado, y sus ventas totales en cada plataforma en las que salieron. Después hacer alguna gráfica que muestre los resultados. Y obviamente agregar tus conclusiones y observaciones.\n",
    "    \n",
    "Sólo yo te doy unos tips, seguro hay muchas maneras alternativas de hacerlo, pero creo que ya entiendes a grandes rasgos lo que debes de hacer :)\n",
    "</div>"
   ]
  },
  {
   "cell_type": "markdown",
   "metadata": {},
   "source": [
    "Vamos a analizar cuales han sido los juegos con más ventas globales del 2011 al 2016."
   ]
  },
  {
   "cell_type": "code",
   "execution_count": 26,
   "metadata": {},
   "outputs": [
    {
     "data": {
      "text/html": [
       "<div>\n",
       "<style scoped>\n",
       "    .dataframe tbody tr th:only-of-type {\n",
       "        vertical-align: middle;\n",
       "    }\n",
       "\n",
       "    .dataframe tbody tr th {\n",
       "        vertical-align: top;\n",
       "    }\n",
       "\n",
       "    .dataframe thead th {\n",
       "        text-align: right;\n",
       "    }\n",
       "</style>\n",
       "<table border=\"1\" class=\"dataframe\">\n",
       "  <thead>\n",
       "    <tr style=\"text-align: right;\">\n",
       "      <th></th>\n",
       "      <th>total_sales</th>\n",
       "    </tr>\n",
       "    <tr>\n",
       "      <th>name</th>\n",
       "      <th></th>\n",
       "    </tr>\n",
       "  </thead>\n",
       "  <tbody>\n",
       "    <tr>\n",
       "      <th>Grand Theft Auto V</th>\n",
       "      <td>56.58</td>\n",
       "    </tr>\n",
       "    <tr>\n",
       "      <th>Call of Duty: Modern Warfare 3</th>\n",
       "      <td>30.60</td>\n",
       "    </tr>\n",
       "    <tr>\n",
       "      <th>Call of Duty: Black Ops II</th>\n",
       "      <td>29.40</td>\n",
       "    </tr>\n",
       "    <tr>\n",
       "      <th>Call of Duty: Ghosts</th>\n",
       "      <td>27.39</td>\n",
       "    </tr>\n",
       "    <tr>\n",
       "      <th>Call of Duty: Black Ops 3</th>\n",
       "      <td>25.67</td>\n",
       "    </tr>\n",
       "    <tr>\n",
       "      <th>Minecraft</th>\n",
       "      <td>24.16</td>\n",
       "    </tr>\n",
       "    <tr>\n",
       "      <th>Call of Duty: Advanced Warfare</th>\n",
       "      <td>21.97</td>\n",
       "    </tr>\n",
       "    <tr>\n",
       "      <th>The Elder Scrolls V: Skyrim</th>\n",
       "      <td>21.14</td>\n",
       "    </tr>\n",
       "    <tr>\n",
       "      <th>FIFA 15</th>\n",
       "      <td>17.37</td>\n",
       "    </tr>\n",
       "    <tr>\n",
       "      <th>Battlefield 3</th>\n",
       "      <td>17.27</td>\n",
       "    </tr>\n",
       "  </tbody>\n",
       "</table>\n",
       "</div>"
      ],
      "text/plain": [
       "                                total_sales\n",
       "name                                       \n",
       "Grand Theft Auto V                    56.58\n",
       "Call of Duty: Modern Warfare 3        30.60\n",
       "Call of Duty: Black Ops II            29.40\n",
       "Call of Duty: Ghosts                  27.39\n",
       "Call of Duty: Black Ops 3             25.67\n",
       "Minecraft                             24.16\n",
       "Call of Duty: Advanced Warfare        21.97\n",
       "The Elder Scrolls V: Skyrim           21.14\n",
       "FIFA 15                               17.37\n",
       "Battlefield 3                         17.27"
      ]
     },
     "execution_count": 26,
     "metadata": {},
     "output_type": "execute_result"
    }
   ],
   "source": [
    "games_filtered_2011_2016.pivot_table(index='name', values='total_sales', aggfunc='sum').sort_values(by='total_sales', ascending=False).head(10)"
   ]
  },
  {
   "cell_type": "markdown",
   "metadata": {},
   "source": [
    "Ahora, vamos a filtrar los juegos con más ventas globales y desglosarlos por plataforma para en cuales otras plataformas tuvieron ventas."
   ]
  },
  {
   "cell_type": "code",
   "execution_count": 27,
   "metadata": {},
   "outputs": [
    {
     "data": {
      "text/html": [
       "<div>\n",
       "<style scoped>\n",
       "    .dataframe tbody tr th:only-of-type {\n",
       "        vertical-align: middle;\n",
       "    }\n",
       "\n",
       "    .dataframe tbody tr th {\n",
       "        vertical-align: top;\n",
       "    }\n",
       "\n",
       "    .dataframe thead th {\n",
       "        text-align: right;\n",
       "    }\n",
       "</style>\n",
       "<table border=\"1\" class=\"dataframe\">\n",
       "  <thead>\n",
       "    <tr style=\"text-align: right;\">\n",
       "      <th>platform</th>\n",
       "      <th>PC</th>\n",
       "      <th>PS3</th>\n",
       "      <th>PS4</th>\n",
       "      <th>Wii</th>\n",
       "      <th>WiiU</th>\n",
       "      <th>X360</th>\n",
       "      <th>XOne</th>\n",
       "    </tr>\n",
       "    <tr>\n",
       "      <th>name</th>\n",
       "      <th></th>\n",
       "      <th></th>\n",
       "      <th></th>\n",
       "      <th></th>\n",
       "      <th></th>\n",
       "      <th></th>\n",
       "      <th></th>\n",
       "    </tr>\n",
       "  </thead>\n",
       "  <tbody>\n",
       "    <tr>\n",
       "      <th>Call of Duty: Black Ops 3</th>\n",
       "      <td>0.26</td>\n",
       "      <td>1.69</td>\n",
       "      <td>14.63</td>\n",
       "      <td>NaN</td>\n",
       "      <td>NaN</td>\n",
       "      <td>1.70</td>\n",
       "      <td>7.39</td>\n",
       "    </tr>\n",
       "    <tr>\n",
       "      <th>Call of Duty: Black Ops II</th>\n",
       "      <td>1.52</td>\n",
       "      <td>13.79</td>\n",
       "      <td>NaN</td>\n",
       "      <td>NaN</td>\n",
       "      <td>0.41</td>\n",
       "      <td>13.68</td>\n",
       "      <td>NaN</td>\n",
       "    </tr>\n",
       "    <tr>\n",
       "      <th>Call of Duty: Ghosts</th>\n",
       "      <td>0.69</td>\n",
       "      <td>9.36</td>\n",
       "      <td>3.83</td>\n",
       "      <td>NaN</td>\n",
       "      <td>0.35</td>\n",
       "      <td>10.24</td>\n",
       "      <td>2.92</td>\n",
       "    </tr>\n",
       "    <tr>\n",
       "      <th>Call of Duty: Modern Warfare 3</th>\n",
       "      <td>1.71</td>\n",
       "      <td>13.33</td>\n",
       "      <td>NaN</td>\n",
       "      <td>0.83</td>\n",
       "      <td>NaN</td>\n",
       "      <td>14.73</td>\n",
       "      <td>NaN</td>\n",
       "    </tr>\n",
       "    <tr>\n",
       "      <th>Grand Theft Auto V</th>\n",
       "      <td>1.17</td>\n",
       "      <td>21.05</td>\n",
       "      <td>12.62</td>\n",
       "      <td>NaN</td>\n",
       "      <td>NaN</td>\n",
       "      <td>16.27</td>\n",
       "      <td>5.47</td>\n",
       "    </tr>\n",
       "  </tbody>\n",
       "</table>\n",
       "</div>"
      ],
      "text/plain": [
       "platform                          PC    PS3    PS4   Wii  WiiU   X360  XOne\n",
       "name                                                                       \n",
       "Call of Duty: Black Ops 3       0.26   1.69  14.63   NaN   NaN   1.70  7.39\n",
       "Call of Duty: Black Ops II      1.52  13.79    NaN   NaN  0.41  13.68   NaN\n",
       "Call of Duty: Ghosts            0.69   9.36   3.83   NaN  0.35  10.24  2.92\n",
       "Call of Duty: Modern Warfare 3  1.71  13.33    NaN  0.83   NaN  14.73   NaN\n",
       "Grand Theft Auto V              1.17  21.05  12.62   NaN   NaN  16.27  5.47"
      ]
     },
     "execution_count": 27,
     "metadata": {},
     "output_type": "execute_result"
    }
   ],
   "source": [
    "games_filtered_2011_2016_top5 = games_filtered_2011_2016.query('name == [\"Grand Theft Auto V\", \"Call of Duty: Modern Warfare 3\", \"Call of Duty: Black Ops II\", \"Call of Duty: Ghosts\", \"Call of Duty: Black Ops 3\"]')\n",
    "\n",
    "games_filtered_2011_2016_top5.pivot_table(index='name',columns='platform', values='total_sales', aggfunc='sum')"
   ]
  },
  {
   "cell_type": "code",
   "execution_count": 28,
   "metadata": {},
   "outputs": [
    {
     "data": {
      "text/plain": [
       "<AxesSubplot:xlabel='name'>"
      ]
     },
     "execution_count": 28,
     "metadata": {},
     "output_type": "execute_result"
    },
    {
     "data": {
      "image/png": "[encoded data removed]",
      "text/plain": [
       "<Figure size 720x360 with 1 Axes>"
      ]
     },
     "metadata": {
      "needs_background": "light"
     },
     "output_type": "display_data"
    }
   ],
   "source": [
    "games_filtered_2011_2016_top5.pivot_table(index='name',columns='platform', values='total_sales', aggfunc='sum').plot(kind='bar', figsize=(10,5))\n"
   ]
  },
  {
   "cell_type": "markdown",
   "metadata": {},
   "source": [
    "<div class=\"alert alert-block alert-success\">\n",
    "<b>Éxito V2</b> <a class=\"tocSkip\"></a>\n",
    "\n",
    "Perfectamente aplicada la corrección! Excelente gráfica!</div>"
   ]
  },
  {
   "cell_type": "markdown",
   "metadata": {},
   "source": [
    "En esta gráfica podemos ver que las plataformas de PS3 y Xbox 360 tienen las ventas más altas en 3 juegos de Call of Duty y Grand Theft Auto V"
   ]
  },
  {
   "cell_type": "markdown",
   "metadata": {},
   "source": [
    "<div class=\"alert alert-block alert-warning\">\n",
    "<b>Atención V2</b> <a class=\"tocSkip\"></a>\n",
    "\n",
    "Sólo podrías realizar más observaciones, quizá, por ejemplo, las plataformas de Nintendo tienen buenas ventas para estos juegos multiplataforma? y la PC?</div>"
   ]
  },
  {
   "cell_type": "markdown",
   "metadata": {},
   "source": [
    "Ahora, vamos a analizar las ventas totales de los juegos por género."
   ]
  },
  {
   "cell_type": "code",
   "execution_count": 29,
   "metadata": {},
   "outputs": [
    {
     "data": {
      "text/plain": [
       "<AxesSubplot:xlabel='genre'>"
      ]
     },
     "execution_count": 29,
     "metadata": {},
     "output_type": "execute_result"
    },
    {
     "data": {
      "image/png": "[encoded data removed]",
      "text/plain": [
       "<Figure size 1440x360 with 1 Axes>"
      ]
     },
     "metadata": {
      "needs_background": "light"
     },
     "output_type": "display_data"
    }
   ],
   "source": [
    "games_filtered_2011_2016.pivot_table(index='genre', values='total_sales', aggfunc='sum').plot(kind='bar', figsize=(20,5))"
   ]
  },
  {
   "cell_type": "code",
   "execution_count": 30,
   "metadata": {},
   "outputs": [
    {
     "data": {
      "text/html": [
       "<div>\n",
       "<style scoped>\n",
       "    .dataframe tbody tr th:only-of-type {\n",
       "        vertical-align: middle;\n",
       "    }\n",
       "\n",
       "    .dataframe tbody tr th {\n",
       "        vertical-align: top;\n",
       "    }\n",
       "\n",
       "    .dataframe thead th {\n",
       "        text-align: right;\n",
       "    }\n",
       "</style>\n",
       "<table border=\"1\" class=\"dataframe\">\n",
       "  <thead>\n",
       "    <tr style=\"text-align: right;\">\n",
       "      <th></th>\n",
       "      <th>total_sales</th>\n",
       "    </tr>\n",
       "    <tr>\n",
       "      <th>genre</th>\n",
       "      <th></th>\n",
       "    </tr>\n",
       "  </thead>\n",
       "  <tbody>\n",
       "    <tr>\n",
       "      <th>Action</th>\n",
       "      <td>557.80</td>\n",
       "    </tr>\n",
       "    <tr>\n",
       "      <th>Shooter</th>\n",
       "      <td>402.91</td>\n",
       "    </tr>\n",
       "    <tr>\n",
       "      <th>Role-Playing</th>\n",
       "      <td>245.63</td>\n",
       "    </tr>\n",
       "    <tr>\n",
       "      <th>Sports</th>\n",
       "      <td>237.15</td>\n",
       "    </tr>\n",
       "    <tr>\n",
       "      <th>Misc</th>\n",
       "      <td>139.42</td>\n",
       "    </tr>\n",
       "  </tbody>\n",
       "</table>\n",
       "</div>"
      ],
      "text/plain": [
       "              total_sales\n",
       "genre                    \n",
       "Action             557.80\n",
       "Shooter            402.91\n",
       "Role-Playing       245.63\n",
       "Sports             237.15\n",
       "Misc               139.42"
      ]
     },
     "execution_count": 30,
     "metadata": {},
     "output_type": "execute_result"
    }
   ],
   "source": [
    "games_filtered_2011_2016.pivot_table(index='genre', values='total_sales', aggfunc='sum').sort_values(by='total_sales',ascending=False).head()"
   ]
  },
  {
   "cell_type": "markdown",
   "metadata": {},
   "source": [
    "Los géneros de videojuegos con más ventas del 2011 al 2016 son:\n",
    "- #1 Acción\n",
    "- #2 Shooter\n",
    "- #3 Role-playing\n",
    "- #4 Deporte\n",
    "- #5 Misc"
   ]
  },
  {
   "cell_type": "markdown",
   "metadata": {},
   "source": [
    "<div class=\"alert alert-block alert-success\">\n",
    "<b>Éxito</b> <a class=\"tocSkip\"></a>\n",
    "\n",
    "Muy bien esta parte! También podrías decir cuáles son los géneros que menos venden</div>"
   ]
  },
  {
   "cell_type": "markdown",
   "metadata": {},
   "source": [
    "### Analisis por región"
   ]
  },
  {
   "cell_type": "markdown",
   "metadata": {},
   "source": [
    "Vamos a hacer un analisis por región para Norteamérica, Unión Europea y Japón."
   ]
  },
  {
   "cell_type": "markdown",
   "metadata": {},
   "source": [
    "#### Plataformas principales"
   ]
  },
  {
   "cell_type": "code",
   "execution_count": 31,
   "metadata": {},
   "outputs": [
    {
     "data": {
      "text/html": [
       "<div>\n",
       "<style scoped>\n",
       "    .dataframe tbody tr th:only-of-type {\n",
       "        vertical-align: middle;\n",
       "    }\n",
       "\n",
       "    .dataframe tbody tr th {\n",
       "        vertical-align: top;\n",
       "    }\n",
       "\n",
       "    .dataframe thead th {\n",
       "        text-align: right;\n",
       "    }\n",
       "</style>\n",
       "<table border=\"1\" class=\"dataframe\">\n",
       "  <thead>\n",
       "    <tr style=\"text-align: right;\">\n",
       "      <th></th>\n",
       "      <th>na_sales</th>\n",
       "    </tr>\n",
       "    <tr>\n",
       "      <th>platform</th>\n",
       "      <th></th>\n",
       "    </tr>\n",
       "  </thead>\n",
       "  <tbody>\n",
       "    <tr>\n",
       "      <th>X360</th>\n",
       "      <td>226.80</td>\n",
       "    </tr>\n",
       "    <tr>\n",
       "      <th>PS3</th>\n",
       "      <td>168.26</td>\n",
       "    </tr>\n",
       "    <tr>\n",
       "      <th>PS4</th>\n",
       "      <td>108.74</td>\n",
       "    </tr>\n",
       "    <tr>\n",
       "      <th>XOne</th>\n",
       "      <td>93.12</td>\n",
       "    </tr>\n",
       "    <tr>\n",
       "      <th>3DS</th>\n",
       "      <td>82.65</td>\n",
       "    </tr>\n",
       "  </tbody>\n",
       "</table>\n",
       "</div>"
      ],
      "text/plain": [
       "          na_sales\n",
       "platform          \n",
       "X360        226.80\n",
       "PS3         168.26\n",
       "PS4         108.74\n",
       "XOne         93.12\n",
       "3DS          82.65"
      ]
     },
     "execution_count": 31,
     "metadata": {},
     "output_type": "execute_result"
    }
   ],
   "source": [
    "games_filtered_2011_2016.pivot_table(index='platform', values=['na_sales'], aggfunc='sum').sort_values(by='na_sales',ascending=False).head()"
   ]
  },
  {
   "cell_type": "code",
   "execution_count": 32,
   "metadata": {},
   "outputs": [
    {
     "data": {
      "text/plain": [
       "<AxesSubplot:xlabel='platform'>"
      ]
     },
     "execution_count": 32,
     "metadata": {},
     "output_type": "execute_result"
    },
    {
     "data": {
      "image/png": "[encoded data removed]",
      "text/plain": [
       "<Figure size 432x288 with 1 Axes>"
      ]
     },
     "metadata": {
      "needs_background": "light"
     },
     "output_type": "display_data"
    }
   ],
   "source": [
    "games_filtered_2011_2016.pivot_table(index='platform', values=['na_sales'], aggfunc='sum').sort_values(by='na_sales',ascending=False).head().plot(kind='bar')"
   ]
  },
  {
   "cell_type": "code",
   "execution_count": 33,
   "metadata": {},
   "outputs": [
    {
     "data": {
      "text/html": [
       "<div>\n",
       "<style scoped>\n",
       "    .dataframe tbody tr th:only-of-type {\n",
       "        vertical-align: middle;\n",
       "    }\n",
       "\n",
       "    .dataframe tbody tr th {\n",
       "        vertical-align: top;\n",
       "    }\n",
       "\n",
       "    .dataframe thead th {\n",
       "        text-align: right;\n",
       "    }\n",
       "</style>\n",
       "<table border=\"1\" class=\"dataframe\">\n",
       "  <thead>\n",
       "    <tr style=\"text-align: right;\">\n",
       "      <th></th>\n",
       "      <th>eu_sales</th>\n",
       "    </tr>\n",
       "    <tr>\n",
       "      <th>platform</th>\n",
       "      <th></th>\n",
       "    </tr>\n",
       "  </thead>\n",
       "  <tbody>\n",
       "    <tr>\n",
       "      <th>PS3</th>\n",
       "      <td>163.10</td>\n",
       "    </tr>\n",
       "    <tr>\n",
       "      <th>PS4</th>\n",
       "      <td>141.09</td>\n",
       "    </tr>\n",
       "    <tr>\n",
       "      <th>X360</th>\n",
       "      <td>117.10</td>\n",
       "    </tr>\n",
       "    <tr>\n",
       "      <th>3DS</th>\n",
       "      <td>61.27</td>\n",
       "    </tr>\n",
       "    <tr>\n",
       "      <th>PC</th>\n",
       "      <td>56.70</td>\n",
       "    </tr>\n",
       "  </tbody>\n",
       "</table>\n",
       "</div>"
      ],
      "text/plain": [
       "          eu_sales\n",
       "platform          \n",
       "PS3         163.10\n",
       "PS4         141.09\n",
       "X360        117.10\n",
       "3DS          61.27\n",
       "PC           56.70"
      ]
     },
     "execution_count": 33,
     "metadata": {},
     "output_type": "execute_result"
    }
   ],
   "source": [
    "games_filtered_2011_2016.pivot_table(index='platform', values=['eu_sales'], aggfunc='sum').sort_values(by='eu_sales',ascending=False).head()"
   ]
  },
  {
   "cell_type": "code",
   "execution_count": 34,
   "metadata": {},
   "outputs": [
    {
     "data": {
      "text/plain": [
       "<AxesSubplot:xlabel='platform'>"
      ]
     },
     "execution_count": 34,
     "metadata": {},
     "output_type": "execute_result"
    },
    {
     "data": {
      "image/png": "[encoded data removed]",
      "text/plain": [
       "<Figure size 432x288 with 1 Axes>"
      ]
     },
     "metadata": {
      "needs_background": "light"
     },
     "output_type": "display_data"
    }
   ],
   "source": [
    "games_filtered_2011_2016.pivot_table(index='platform', values=['eu_sales'], aggfunc='sum').sort_values(by='eu_sales',ascending=False).head().plot(kind='bar')"
   ]
  },
  {
   "cell_type": "code",
   "execution_count": 35,
   "metadata": {},
   "outputs": [
    {
     "data": {
      "text/html": [
       "<div>\n",
       "<style scoped>\n",
       "    .dataframe tbody tr th:only-of-type {\n",
       "        vertical-align: middle;\n",
       "    }\n",
       "\n",
       "    .dataframe tbody tr th {\n",
       "        vertical-align: top;\n",
       "    }\n",
       "\n",
       "    .dataframe thead th {\n",
       "        text-align: right;\n",
       "    }\n",
       "</style>\n",
       "<table border=\"1\" class=\"dataframe\">\n",
       "  <thead>\n",
       "    <tr style=\"text-align: right;\">\n",
       "      <th></th>\n",
       "      <th>jp_sales</th>\n",
       "    </tr>\n",
       "    <tr>\n",
       "      <th>platform</th>\n",
       "      <th></th>\n",
       "    </tr>\n",
       "  </thead>\n",
       "  <tbody>\n",
       "    <tr>\n",
       "      <th>3DS</th>\n",
       "      <td>100.62</td>\n",
       "    </tr>\n",
       "    <tr>\n",
       "      <th>PS3</th>\n",
       "      <td>49.39</td>\n",
       "    </tr>\n",
       "    <tr>\n",
       "      <th>PSP</th>\n",
       "      <td>24.04</td>\n",
       "    </tr>\n",
       "    <tr>\n",
       "      <th>PSV</th>\n",
       "      <td>21.84</td>\n",
       "    </tr>\n",
       "    <tr>\n",
       "      <th>PS4</th>\n",
       "      <td>15.96</td>\n",
       "    </tr>\n",
       "  </tbody>\n",
       "</table>\n",
       "</div>"
      ],
      "text/plain": [
       "          jp_sales\n",
       "platform          \n",
       "3DS         100.62\n",
       "PS3          49.39\n",
       "PSP          24.04\n",
       "PSV          21.84\n",
       "PS4          15.96"
      ]
     },
     "execution_count": 35,
     "metadata": {},
     "output_type": "execute_result"
    }
   ],
   "source": [
    "games_filtered_2011_2016.pivot_table(index='platform', values=['jp_sales'], aggfunc='sum').sort_values(by='jp_sales',ascending=False).head()"
   ]
  },
  {
   "cell_type": "code",
   "execution_count": 36,
   "metadata": {},
   "outputs": [
    {
     "data": {
      "text/plain": [
       "<AxesSubplot:xlabel='platform'>"
      ]
     },
     "execution_count": 36,
     "metadata": {},
     "output_type": "execute_result"
    },
    {
     "data": {
      "image/png": "[encoded data removed]",
      "text/plain": [
       "<Figure size 432x288 with 1 Axes>"
      ]
     },
     "metadata": {
      "needs_background": "light"
     },
     "output_type": "display_data"
    }
   ],
   "source": [
    "games_filtered_2011_2016.pivot_table(index='platform', values=['jp_sales'], aggfunc='sum').sort_values(by='jp_sales',ascending=False).head().plot(kind='bar')"
   ]
  },
  {
   "cell_type": "markdown",
   "metadata": {},
   "source": [
    "Las plataformas con más videojuegos vendidos, cambia dependiendo de la región. Por ejemplo: el 1er lugar en Norteamérica es Xbox 360, mientras que en Europa el 1er lugar es el PS3 y en Japón el 1er lugar es el Nintendo 3DS.\n",
    "Además, independientemente de la plataforma, el total de ventas por región varía mucho. Esto puede ser por el tamaño del mercado que existe en cada región. Los primeros lugares de cada región tiene una variación de 63 Millones de dólares entre regiones."
   ]
  },
  {
   "cell_type": "markdown",
   "metadata": {},
   "source": [
    "<div class=\"alert alert-block alert-warning\">\n",
    "<b>Atención</b> <a class=\"tocSkip\"></a>\n",
    "\n",
    "Muy bien lo que haces arriba! sólo te podría decir que una imagen vale más que mil palabras así que podrías mostrar gráficas en vez de tablas :)</div>"
   ]
  },
  {
   "cell_type": "markdown",
   "metadata": {},
   "source": [
    "<div class=\"alert alert-block alert-info\">\n",
    "<b>Respuesta del estudiante.</b> <a class=\"tocSkip\"></a>\n",
    "\n",
    "    \n",
    "De acuerdo, complemento con gráficas. Gracias!"
   ]
  },
  {
   "cell_type": "markdown",
   "metadata": {},
   "source": [
    "<div class=\"alert alert-block alert-success\">\n",
    "<b>Éxito V2</b> <a class=\"tocSkip\"></a>\n",
    "\n",
    "Genial! Gracias!    \n",
    "</div>"
   ]
  },
  {
   "cell_type": "markdown",
   "metadata": {},
   "source": [
    "#### Géneros por región"
   ]
  },
  {
   "cell_type": "markdown",
   "metadata": {},
   "source": [
    "Vamos a ver ahora el top 5 de géneros de videojuegos por región."
   ]
  },
  {
   "cell_type": "code",
   "execution_count": 37,
   "metadata": {},
   "outputs": [
    {
     "data": {
      "text/html": [
       "<div>\n",
       "<style scoped>\n",
       "    .dataframe tbody tr th:only-of-type {\n",
       "        vertical-align: middle;\n",
       "    }\n",
       "\n",
       "    .dataframe tbody tr th {\n",
       "        vertical-align: top;\n",
       "    }\n",
       "\n",
       "    .dataframe thead th {\n",
       "        text-align: right;\n",
       "    }\n",
       "</style>\n",
       "<table border=\"1\" class=\"dataframe\">\n",
       "  <thead>\n",
       "    <tr style=\"text-align: right;\">\n",
       "      <th></th>\n",
       "      <th>na_sales</th>\n",
       "    </tr>\n",
       "    <tr>\n",
       "      <th>genre</th>\n",
       "      <th></th>\n",
       "    </tr>\n",
       "  </thead>\n",
       "  <tbody>\n",
       "    <tr>\n",
       "      <th>Action</th>\n",
       "      <td>230.92</td>\n",
       "    </tr>\n",
       "    <tr>\n",
       "      <th>Shooter</th>\n",
       "      <td>194.43</td>\n",
       "    </tr>\n",
       "    <tr>\n",
       "      <th>Sports</th>\n",
       "      <td>108.70</td>\n",
       "    </tr>\n",
       "    <tr>\n",
       "      <th>Role-Playing</th>\n",
       "      <td>83.78</td>\n",
       "    </tr>\n",
       "    <tr>\n",
       "      <th>Misc</th>\n",
       "      <td>69.69</td>\n",
       "    </tr>\n",
       "  </tbody>\n",
       "</table>\n",
       "</div>"
      ],
      "text/plain": [
       "              na_sales\n",
       "genre                 \n",
       "Action          230.92\n",
       "Shooter         194.43\n",
       "Sports          108.70\n",
       "Role-Playing     83.78\n",
       "Misc             69.69"
      ]
     },
     "execution_count": 37,
     "metadata": {},
     "output_type": "execute_result"
    }
   ],
   "source": [
    "games_filtered_2011_2016.pivot_table(index='genre', values=['na_sales'], aggfunc='sum').sort_values(by='na_sales',ascending=False).head()"
   ]
  },
  {
   "cell_type": "code",
   "execution_count": 38,
   "metadata": {},
   "outputs": [
    {
     "data": {
      "text/plain": [
       "<AxesSubplot:xlabel='genre'>"
      ]
     },
     "execution_count": 38,
     "metadata": {},
     "output_type": "execute_result"
    },
    {
     "data": {
      "image/png": "[encoded data removed]",
      "text/plain": [
       "<Figure size 432x288 with 1 Axes>"
      ]
     },
     "metadata": {
      "needs_background": "light"
     },
     "output_type": "display_data"
    }
   ],
   "source": [
    "games_filtered_2011_2016.pivot_table(index='genre', values=['na_sales'], aggfunc='sum').sort_values(by='na_sales',ascending=False).head().plot(kind='bar')"
   ]
  },
  {
   "cell_type": "code",
   "execution_count": 39,
   "metadata": {},
   "outputs": [
    {
     "data": {
      "text/html": [
       "<div>\n",
       "<style scoped>\n",
       "    .dataframe tbody tr th:only-of-type {\n",
       "        vertical-align: middle;\n",
       "    }\n",
       "\n",
       "    .dataframe tbody tr th {\n",
       "        vertical-align: top;\n",
       "    }\n",
       "\n",
       "    .dataframe thead th {\n",
       "        text-align: right;\n",
       "    }\n",
       "</style>\n",
       "<table border=\"1\" class=\"dataframe\">\n",
       "  <thead>\n",
       "    <tr style=\"text-align: right;\">\n",
       "      <th></th>\n",
       "      <th>eu_sales</th>\n",
       "    </tr>\n",
       "    <tr>\n",
       "      <th>genre</th>\n",
       "      <th></th>\n",
       "    </tr>\n",
       "  </thead>\n",
       "  <tbody>\n",
       "    <tr>\n",
       "      <th>Action</th>\n",
       "      <td>199.12</td>\n",
       "    </tr>\n",
       "    <tr>\n",
       "      <th>Shooter</th>\n",
       "      <td>148.02</td>\n",
       "    </tr>\n",
       "    <tr>\n",
       "      <th>Sports</th>\n",
       "      <td>88.48</td>\n",
       "    </tr>\n",
       "    <tr>\n",
       "      <th>Role-Playing</th>\n",
       "      <td>62.30</td>\n",
       "    </tr>\n",
       "    <tr>\n",
       "      <th>Racing</th>\n",
       "      <td>40.58</td>\n",
       "    </tr>\n",
       "  </tbody>\n",
       "</table>\n",
       "</div>"
      ],
      "text/plain": [
       "              eu_sales\n",
       "genre                 \n",
       "Action          199.12\n",
       "Shooter         148.02\n",
       "Sports           88.48\n",
       "Role-Playing     62.30\n",
       "Racing           40.58"
      ]
     },
     "execution_count": 39,
     "metadata": {},
     "output_type": "execute_result"
    }
   ],
   "source": [
    "games_filtered_2011_2016.pivot_table(index='genre', values=['eu_sales'], aggfunc='sum').sort_values(by='eu_sales',ascending=False).head()"
   ]
  },
  {
   "cell_type": "code",
   "execution_count": 40,
   "metadata": {},
   "outputs": [
    {
     "data": {
      "text/plain": [
       "<AxesSubplot:xlabel='genre'>"
      ]
     },
     "execution_count": 40,
     "metadata": {},
     "output_type": "execute_result"
    },
    {
     "data": {
      "image/png": "[encoded data removed]",
      "text/plain": [
       "<Figure size 432x288 with 1 Axes>"
      ]
     },
     "metadata": {
      "needs_background": "light"
     },
     "output_type": "display_data"
    }
   ],
   "source": [
    "games_filtered_2011_2016.pivot_table(index='genre', values=['eu_sales'], aggfunc='sum').sort_values(by='eu_sales',ascending=False).head().plot(kind='bar')"
   ]
  },
  {
   "cell_type": "code",
   "execution_count": 41,
   "metadata": {},
   "outputs": [
    {
     "data": {
      "text/html": [
       "<div>\n",
       "<style scoped>\n",
       "    .dataframe tbody tr th:only-of-type {\n",
       "        vertical-align: middle;\n",
       "    }\n",
       "\n",
       "    .dataframe tbody tr th {\n",
       "        vertical-align: top;\n",
       "    }\n",
       "\n",
       "    .dataframe thead th {\n",
       "        text-align: right;\n",
       "    }\n",
       "</style>\n",
       "<table border=\"1\" class=\"dataframe\">\n",
       "  <thead>\n",
       "    <tr style=\"text-align: right;\">\n",
       "      <th></th>\n",
       "      <th>jp_sales</th>\n",
       "    </tr>\n",
       "    <tr>\n",
       "      <th>genre</th>\n",
       "      <th></th>\n",
       "    </tr>\n",
       "  </thead>\n",
       "  <tbody>\n",
       "    <tr>\n",
       "      <th>Role-Playing</th>\n",
       "      <td>79.87</td>\n",
       "    </tr>\n",
       "    <tr>\n",
       "      <th>Action</th>\n",
       "      <td>63.62</td>\n",
       "    </tr>\n",
       "    <tr>\n",
       "      <th>Misc</th>\n",
       "      <td>17.60</td>\n",
       "    </tr>\n",
       "    <tr>\n",
       "      <th>Fighting</th>\n",
       "      <td>12.38</td>\n",
       "    </tr>\n",
       "    <tr>\n",
       "      <th>Platform</th>\n",
       "      <td>12.13</td>\n",
       "    </tr>\n",
       "  </tbody>\n",
       "</table>\n",
       "</div>"
      ],
      "text/plain": [
       "              jp_sales\n",
       "genre                 \n",
       "Role-Playing     79.87\n",
       "Action           63.62\n",
       "Misc             17.60\n",
       "Fighting         12.38\n",
       "Platform         12.13"
      ]
     },
     "execution_count": 41,
     "metadata": {},
     "output_type": "execute_result"
    }
   ],
   "source": [
    "games_filtered_2011_2016.pivot_table(index='genre', values=['jp_sales'], aggfunc='sum').sort_values(by='jp_sales',ascending=False).head()"
   ]
  },
  {
   "cell_type": "code",
   "execution_count": 42,
   "metadata": {},
   "outputs": [
    {
     "data": {
      "text/plain": [
       "<AxesSubplot:xlabel='genre'>"
      ]
     },
     "execution_count": 42,
     "metadata": {},
     "output_type": "execute_result"
    },
    {
     "data": {
      "image/png": "[encoded data removed]",
      "text/plain": [
       "<Figure size 432x288 with 1 Axes>"
      ]
     },
     "metadata": {
      "needs_background": "light"
     },
     "output_type": "display_data"
    }
   ],
   "source": [
    "games_filtered_2011_2016.pivot_table(index='genre', values=['jp_sales'], aggfunc='sum').sort_values(by='jp_sales',ascending=False).head().plot(kind='bar')"
   ]
  },
  {
   "cell_type": "markdown",
   "metadata": {},
   "source": [
    "Podemos observar que en Norteamérica y en Europa, los 4 principales géneros concuerdan entre regiones.\n",
    "- 1ro Action\n",
    "- 2do Shooter\n",
    "- 3ro Sports\n",
    "- 4to Role-playing\n",
    "\n",
    "Mientras que en Japón, unicamente el género \"Action\" concuerda con las otras regiones."
   ]
  },
  {
   "cell_type": "markdown",
   "metadata": {},
   "source": [
    "<div class=\"alert alert-block alert-success\">\n",
    "<b>Éxito</b> <a class=\"tocSkip\"></a>\n",
    "\n",
    "Buenas observaciones!</div>"
   ]
  },
  {
   "cell_type": "markdown",
   "metadata": {},
   "source": [
    "#### Clasificaciones ESRB por región"
   ]
  },
  {
   "cell_type": "markdown",
   "metadata": {},
   "source": [
    "Vamos a analizar ahora, cómo van las ventas por región, dependiendo de la clasificación ESRB."
   ]
  },
  {
   "cell_type": "code",
   "execution_count": 43,
   "metadata": {},
   "outputs": [
    {
     "data": {
      "text/html": [
       "<div>\n",
       "<style scoped>\n",
       "    .dataframe tbody tr th:only-of-type {\n",
       "        vertical-align: middle;\n",
       "    }\n",
       "\n",
       "    .dataframe tbody tr th {\n",
       "        vertical-align: top;\n",
       "    }\n",
       "\n",
       "    .dataframe thead th {\n",
       "        text-align: right;\n",
       "    }\n",
       "</style>\n",
       "<table border=\"1\" class=\"dataframe\">\n",
       "  <thead>\n",
       "    <tr style=\"text-align: right;\">\n",
       "      <th></th>\n",
       "      <th>na_sales</th>\n",
       "    </tr>\n",
       "    <tr>\n",
       "      <th>rating</th>\n",
       "      <th></th>\n",
       "    </tr>\n",
       "  </thead>\n",
       "  <tbody>\n",
       "    <tr>\n",
       "      <th>M</th>\n",
       "      <td>308.45</td>\n",
       "    </tr>\n",
       "    <tr>\n",
       "      <th>E</th>\n",
       "      <td>170.17</td>\n",
       "    </tr>\n",
       "    <tr>\n",
       "      <th>E10+</th>\n",
       "      <td>117.72</td>\n",
       "    </tr>\n",
       "    <tr>\n",
       "      <th>T</th>\n",
       "      <td>109.31</td>\n",
       "    </tr>\n",
       "    <tr>\n",
       "      <th>EC</th>\n",
       "      <td>0.42</td>\n",
       "    </tr>\n",
       "  </tbody>\n",
       "</table>\n",
       "</div>"
      ],
      "text/plain": [
       "        na_sales\n",
       "rating          \n",
       "M         308.45\n",
       "E         170.17\n",
       "E10+      117.72\n",
       "T         109.31\n",
       "EC          0.42"
      ]
     },
     "execution_count": 43,
     "metadata": {},
     "output_type": "execute_result"
    }
   ],
   "source": [
    "games_filtered_2011_2016.pivot_table(index='rating', values=['na_sales'], aggfunc='sum').sort_values(by='na_sales',ascending=False).head()"
   ]
  },
  {
   "cell_type": "code",
   "execution_count": 44,
   "metadata": {},
   "outputs": [
    {
     "data": {
      "text/plain": [
       "<AxesSubplot:xlabel='rating'>"
      ]
     },
     "execution_count": 44,
     "metadata": {},
     "output_type": "execute_result"
    },
    {
     "data": {
      "image/png": "[encoded data removed]",
      "text/plain": [
       "<Figure size 432x288 with 1 Axes>"
      ]
     },
     "metadata": {
      "needs_background": "light"
     },
     "output_type": "display_data"
    }
   ],
   "source": [
    "games_filtered_2011_2016.pivot_table(index='rating', values=['na_sales'], aggfunc='sum').sort_values(by='na_sales',ascending=False).head().plot(kind='bar')"
   ]
  },
  {
   "cell_type": "code",
   "execution_count": 45,
   "metadata": {},
   "outputs": [
    {
     "data": {
      "text/html": [
       "<div>\n",
       "<style scoped>\n",
       "    .dataframe tbody tr th:only-of-type {\n",
       "        vertical-align: middle;\n",
       "    }\n",
       "\n",
       "    .dataframe tbody tr th {\n",
       "        vertical-align: top;\n",
       "    }\n",
       "\n",
       "    .dataframe thead th {\n",
       "        text-align: right;\n",
       "    }\n",
       "</style>\n",
       "<table border=\"1\" class=\"dataframe\">\n",
       "  <thead>\n",
       "    <tr style=\"text-align: right;\">\n",
       "      <th></th>\n",
       "      <th>eu_sales</th>\n",
       "    </tr>\n",
       "    <tr>\n",
       "      <th>rating</th>\n",
       "      <th></th>\n",
       "    </tr>\n",
       "  </thead>\n",
       "  <tbody>\n",
       "    <tr>\n",
       "      <th>M</th>\n",
       "      <td>250.26</td>\n",
       "    </tr>\n",
       "    <tr>\n",
       "      <th>E</th>\n",
       "      <td>141.73</td>\n",
       "    </tr>\n",
       "    <tr>\n",
       "      <th>T</th>\n",
       "      <td>83.16</td>\n",
       "    </tr>\n",
       "    <tr>\n",
       "      <th>E10+</th>\n",
       "      <td>78.00</td>\n",
       "    </tr>\n",
       "    <tr>\n",
       "      <th>RP</th>\n",
       "      <td>0.03</td>\n",
       "    </tr>\n",
       "  </tbody>\n",
       "</table>\n",
       "</div>"
      ],
      "text/plain": [
       "        eu_sales\n",
       "rating          \n",
       "M         250.26\n",
       "E         141.73\n",
       "T          83.16\n",
       "E10+       78.00\n",
       "RP          0.03"
      ]
     },
     "execution_count": 45,
     "metadata": {},
     "output_type": "execute_result"
    }
   ],
   "source": [
    "games_filtered_2011_2016.pivot_table(index='rating', values=['eu_sales'], aggfunc='sum').sort_values(by='eu_sales',ascending=False).head()"
   ]
  },
  {
   "cell_type": "code",
   "execution_count": 46,
   "metadata": {},
   "outputs": [
    {
     "data": {
      "text/plain": [
       "<AxesSubplot:xlabel='rating'>"
      ]
     },
     "execution_count": 46,
     "metadata": {},
     "output_type": "execute_result"
    },
    {
     "data": {
      "image/png": "[encoded data removed]",
      "text/plain": [
       "<Figure size 432x288 with 1 Axes>"
      ]
     },
     "metadata": {
      "needs_background": "light"
     },
     "output_type": "display_data"
    }
   ],
   "source": [
    "games_filtered_2011_2016.pivot_table(index='rating', values=['eu_sales'], aggfunc='sum').sort_values(by='eu_sales',ascending=False).head().plot(kind='bar')"
   ]
  },
  {
   "cell_type": "code",
   "execution_count": 47,
   "metadata": {},
   "outputs": [
    {
     "data": {
      "text/html": [
       "<div>\n",
       "<style scoped>\n",
       "    .dataframe tbody tr th:only-of-type {\n",
       "        vertical-align: middle;\n",
       "    }\n",
       "\n",
       "    .dataframe tbody tr th {\n",
       "        vertical-align: top;\n",
       "    }\n",
       "\n",
       "    .dataframe thead th {\n",
       "        text-align: right;\n",
       "    }\n",
       "</style>\n",
       "<table border=\"1\" class=\"dataframe\">\n",
       "  <thead>\n",
       "    <tr style=\"text-align: right;\">\n",
       "      <th></th>\n",
       "      <th>jp_sales</th>\n",
       "    </tr>\n",
       "    <tr>\n",
       "      <th>rating</th>\n",
       "      <th></th>\n",
       "    </tr>\n",
       "  </thead>\n",
       "  <tbody>\n",
       "    <tr>\n",
       "      <th>E</th>\n",
       "      <td>36.68</td>\n",
       "    </tr>\n",
       "    <tr>\n",
       "      <th>T</th>\n",
       "      <td>33.39</td>\n",
       "    </tr>\n",
       "    <tr>\n",
       "      <th>M</th>\n",
       "      <td>26.14</td>\n",
       "    </tr>\n",
       "    <tr>\n",
       "      <th>E10+</th>\n",
       "      <td>11.23</td>\n",
       "    </tr>\n",
       "    <tr>\n",
       "      <th>EC</th>\n",
       "      <td>0.00</td>\n",
       "    </tr>\n",
       "  </tbody>\n",
       "</table>\n",
       "</div>"
      ],
      "text/plain": [
       "        jp_sales\n",
       "rating          \n",
       "E          36.68\n",
       "T          33.39\n",
       "M          26.14\n",
       "E10+       11.23\n",
       "EC          0.00"
      ]
     },
     "execution_count": 47,
     "metadata": {},
     "output_type": "execute_result"
    }
   ],
   "source": [
    "games_filtered_2011_2016.pivot_table(index='rating', values=['jp_sales'], aggfunc='sum').sort_values(by='jp_sales',ascending=False).head()"
   ]
  },
  {
   "cell_type": "code",
   "execution_count": 48,
   "metadata": {},
   "outputs": [
    {
     "data": {
      "text/plain": [
       "<AxesSubplot:xlabel='rating'>"
      ]
     },
     "execution_count": 48,
     "metadata": {},
     "output_type": "execute_result"
    },
    {
     "data": {
      "image/png": "[encoded data removed]",
      "text/plain": [
       "<Figure size 432x288 with 1 Axes>"
      ]
     },
     "metadata": {
      "needs_background": "light"
     },
     "output_type": "display_data"
    }
   ],
   "source": [
    "games_filtered_2011_2016.pivot_table(index='rating', values=['jp_sales'], aggfunc='sum').sort_values(by='jp_sales',ascending=False).head().plot(kind='bar')"
   ]
  },
  {
   "cell_type": "markdown",
   "metadata": {},
   "source": [
    "Las ventas por clasificación ESRB en Norteamérica y Europa son similares, teniendo en los dos primeros lugares las clasificaciones M y E. Por otro lado, Japón tiene en primer lugar la clasifiación E, seguido de T."
   ]
  },
  {
   "cell_type": "markdown",
   "metadata": {},
   "source": [
    "En conclusión, vemos que Norteamérica y Europa tienen similitudes en cuanto a las ventas por género de videojuegos y clasificación ESRB. Mientras que Japón, suele tener géneros y clasifiaciones distintas a las otras regiones. Sin embargo, cuando se trata de ventas por plataforma, las 3 regiones tienen plataformas distintas y diferencia de ventas muy grandes."
   ]
  },
  {
   "cell_type": "markdown",
   "metadata": {},
   "source": [
    "<div class=\"alert alert-block alert-warning\">\n",
    "<b>Atención</b> <a class=\"tocSkip\"></a>\n",
    "\n",
    "Buenas conclusiones en esta parte también! te seguiría haciendo, no obstante, la recomendación de emplear gráficas cuando sea posible pues en tu próximo trabajo a tus jefes tendrás que convencerlos con imágenes!</div>"
   ]
  },
  {
   "cell_type": "markdown",
   "metadata": {},
   "source": [
    "<div class=\"alert alert-block alert-info\">\n",
    "<b>Respuesta del estudiante.</b> <a class=\"tocSkip\"></a>\n",
    "\n",
    "    \n",
    "De acuerdo. Gracias!"
   ]
  },
  {
   "cell_type": "markdown",
   "metadata": {},
   "source": [
    "<div class=\"alert alert-block alert-success\">\n",
    "<b>Éxito V2</b> <a class=\"tocSkip\"></a>\n",
    "\n",
    "Muchas gracias!    \n",
    "</div>"
   ]
  },
  {
   "cell_type": "markdown",
   "metadata": {},
   "source": [
    "### Comprobación de hipótesis"
   ]
  },
  {
   "cell_type": "markdown",
   "metadata": {},
   "source": [
    "Ahora, vamos a comprobar algunas hipotesis que se tienen."
   ]
  },
  {
   "cell_type": "markdown",
   "metadata": {},
   "source": [
    "Primero vamos a filtrar las calificaciones promedio de lo usuarios para plataformas de Xbox One y PC en dos diferentes variables. Y además, eliminamos los valores ausentes de ambas variables."
   ]
  },
  {
   "cell_type": "code",
   "execution_count": 49,
   "metadata": {},
   "outputs": [
    {
     "data": {
      "text/plain": [
       "165    7.9\n",
       "179    5.4\n",
       "242    6.4\n",
       "270    6.2\n",
       "373    4.1\n",
       "Name: user_score, dtype: float64"
      ]
     },
     "execution_count": 49,
     "metadata": {},
     "output_type": "execute_result"
    }
   ],
   "source": [
    "games_xbox_one = games_filtered_2011_2016.query('platform == \"XOne\"')\n",
    "games_user_score_xbox_one = games_xbox_one['user_score']\n",
    "games_user_score_xbox_one = games_user_score_xbox_one.dropna()\n",
    "games_user_score_xbox_one.head()"
   ]
  },
  {
   "cell_type": "code",
   "execution_count": 50,
   "metadata": {},
   "outputs": [
    {
     "data": {
      "text/plain": [
       "192    4.0\n",
       "313    8.1\n",
       "458    3.9\n",
       "480    5.9\n",
       "538    7.5\n",
       "Name: user_score, dtype: float64"
      ]
     },
     "execution_count": 50,
     "metadata": {},
     "output_type": "execute_result"
    }
   ],
   "source": [
    "games_pc = games_filtered_2011_2016.query('platform == \"PC\"')\n",
    "games_pc.head()\n",
    "games_user_score_pc = games_pc['user_score']\n",
    "games_user_score_pc = games_user_score_pc.dropna()\n",
    "games_user_score_pc.head()"
   ]
  },
  {
   "cell_type": "markdown",
   "metadata": {},
   "source": [
    "Ahora sí, vamos a comprobar las siguientes hipotesis."
   ]
  },
  {
   "cell_type": "markdown",
   "metadata": {},
   "source": [
    "H0:\n",
    "- Las calificaciones promedio de los usuarios para las plataformas Xbox One y PC son las mismas.\n"
   ]
  },
  {
   "cell_type": "markdown",
   "metadata": {},
   "source": [
    "H1:\n",
    "- Las calificaciones promedio de los usuarios para las plataformas Xbox One y PC no son las mismas."
   ]
  },
  {
   "cell_type": "markdown",
   "metadata": {},
   "source": [
    "<div class=\"alert alert-block alert-danger\">\n",
    "\n",
    "<b>A resolver</b> <a class=\"tocSkip\"></a>\n",
    "\n",
    "Lo que dices justo arriba es incorrecto. Por favor, dale un vistazo rápido a las lecciones sobre comprobación de hipótesis para que puedas comprobarlo. Aquí arriba por favor anota tus dos hipótesis, la nula (H0) y la alternativa (H1). Esto te lo recomiendo hacer **siempre** en tus proyectos. La hipótesis nula siempre dice que los promedios son iguales, mientras que la alternativa es la que dice que son diferentes.\n",
    "</div>"
   ]
  },
  {
   "cell_type": "markdown",
   "metadata": {},
   "source": [
    "<div class=\"alert alert-block alert-info\">\n",
    "<b>Respuesta del estudiante.</b> <a class=\"tocSkip\"></a>\n",
    "\n",
    "    \n",
    "Perfecto, ya quedó ajustado. Gracias!"
   ]
  },
  {
   "cell_type": "markdown",
   "metadata": {},
   "source": [
    "<div class=\"alert alert-block alert-success\">\n",
    "<b>Éxito V2</b> <a class=\"tocSkip\"></a>\n",
    "\n",
    "Perfecto! espero que ya lo tengas más claro :)    \n",
    "</div>"
   ]
  },
  {
   "cell_type": "code",
   "execution_count": 51,
   "metadata": {},
   "outputs": [
    {
     "name": "stdout",
     "output_type": "stream",
     "text": [
      "p-value:  0.6267602271422398\n",
      "No rechazamos la hipótesis nula\n"
     ]
    }
   ],
   "source": [
    "alpha = 0.05\n",
    "# si el valor p es menor que alfa, rechazamos la hipótesis\n",
    "\n",
    "results_hip1 = st.ttest_ind(games_user_score_xbox_one, games_user_score_pc)\n",
    "\n",
    "print('p-value: ', results_hip1.pvalue)\n",
    "\n",
    "if results_hip1.pvalue < alpha:\n",
    "    print(\"Rechazamos la hipótesis nula\")\n",
    "else:\n",
    "    print(\"No rechazamos la hipótesis nula\") "
   ]
  },
  {
   "cell_type": "markdown",
   "metadata": {},
   "source": [
    "<div class=\"alert alert-block alert-danger\">\n",
    "\n",
    "<b>A resolver</b> <a class=\"tocSkip\"></a>\n",
    "\n",
    "Todo correcto en la celda de arriba, excepto que tienes el atributo `equal_var = False`, y para especificarlo de esta forma necesitas comprobar que las varianzas son diferentes. Esto lo puedes hacer con una prueba de Levene:\n",
    "    \n",
    "https://docs.scipy.org/doc/scipy/reference/generated/scipy.stats.levene.html\n",
    "    \n",
    "Y si no compruebas las varianzas, lo mejor es no modificar el atributo equal_var. Sin embargo, yo te recomendaría hacerlo porque así tu prueba T es más precisa.\n",
    "</div>"
   ]
  },
  {
   "cell_type": "markdown",
   "metadata": {},
   "source": [
    "<div class=\"alert alert-block alert-info\">\n",
    "<b>Respuesta del estudiante.</b> <a class=\"tocSkip\"></a>\n",
    "\n",
    "    \n",
    "De acuerdo. Gracias!"
   ]
  },
  {
   "cell_type": "markdown",
   "metadata": {},
   "source": [
    "<div class=\"alert alert-block alert-success\">\n",
    "<b>Éxito V2</b> <a class=\"tocSkip\"></a>\n",
    "\n",
    "Vale! igual te recomiendo investigar al respecto de la prueba de Levene para que en un futuro tengas más precisión con estas comprobaciones :)    \n",
    "</div>"
   ]
  },
  {
   "cell_type": "markdown",
   "metadata": {},
   "source": [
    "El valor p nos dice que aunque las cantidades promedio para ambas plataformas son diferentes, existe un 62% de probabilidad de obtener aleatoriamente una diferencia de ese tamaño o mayor. "
   ]
  },
  {
   "cell_type": "markdown",
   "metadata": {},
   "source": [
    "Ahora vamos a comprobar la siguiente hipotesis:"
   ]
  },
  {
   "cell_type": "markdown",
   "metadata": {},
   "source": [
    "H0:\n",
    "- Las calificaciones promedio de los usuarios para los géneros de Acción y Deportes son diferentes."
   ]
  },
  {
   "cell_type": "markdown",
   "metadata": {},
   "source": [
    "Vamos a filtrar las calificaciones promedio de lo usuarios para los géneros de Acción y Deportes en dos diferentes variables. Y además, eliminamos los valores ausentes de ambas variables."
   ]
  },
  {
   "cell_type": "code",
   "execution_count": 52,
   "metadata": {},
   "outputs": [
    {
     "data": {
      "text/plain": [
       "16     8.2\n",
       "23     8.1\n",
       "42     8.3\n",
       "81     6.6\n",
       "118    8.3\n",
       "Name: user_score, dtype: float64"
      ]
     },
     "execution_count": 52,
     "metadata": {},
     "output_type": "execute_result"
    }
   ],
   "source": [
    "games_action = games_filtered_2011_2016.query('genre == \"Action\"')\n",
    "games_user_score_action = games_action['user_score']\n",
    "games_user_score_action = games_user_score_action.dropna()\n",
    "games_user_score_action.head()"
   ]
  },
  {
   "cell_type": "code",
   "execution_count": 53,
   "metadata": {},
   "outputs": [
    {
     "data": {
      "text/plain": [
       "77     4.3\n",
       "94     5.0\n",
       "126    4.3\n",
       "143    5.7\n",
       "264    4.5\n",
       "Name: user_score, dtype: float64"
      ]
     },
     "execution_count": 53,
     "metadata": {},
     "output_type": "execute_result"
    }
   ],
   "source": [
    "games_sports = games_filtered_2011_2016.query('genre == \"Sports\"')\n",
    "games_user_score_sports = games_sports['user_score']\n",
    "games_user_score_sports = games_user_score_sports.dropna()\n",
    "games_user_score_sports.head()"
   ]
  },
  {
   "cell_type": "markdown",
   "metadata": {},
   "source": [
    "Nuestra hipotesis nula sería:"
   ]
  },
  {
   "cell_type": "markdown",
   "metadata": {},
   "source": [
    "H0:\n",
    "- Las calificaciones promedio de los usuarios para los géneros de Acción y Deportes no son diferentes."
   ]
  },
  {
   "cell_type": "markdown",
   "metadata": {},
   "source": [
    "H1:\n",
    "- Las calificaciones promedio de los usuarios para los géneros de Acción y Deportes son diferentes."
   ]
  },
  {
   "cell_type": "markdown",
   "metadata": {},
   "source": [
    "<div class=\"alert alert-block alert-danger\">\n",
    "\n",
    "<b>A resolver</b> <a class=\"tocSkip\"></a>\n",
    "\n",
    "Aquí arriba tu hipótesis nula es correcta! sólo te pido también anotar la alternativa por favor, como ejercicio\n",
    "</div>"
   ]
  },
  {
   "cell_type": "markdown",
   "metadata": {},
   "source": [
    "<div class=\"alert alert-block alert-info\">\n",
    "<b>Respuesta del estudiante.</b> <a class=\"tocSkip\"></a>\n",
    "\n",
    "    \n",
    "Tengo una duda, entonces, la hipotesis nula es siempre la que nos dan o como? Estoy confundido, tenía entendido que era el contrario de la que nos dan. :S"
   ]
  },
  {
   "cell_type": "markdown",
   "metadata": {},
   "source": [
    "<div class=\"alert alert-block alert-success\">\n",
    "<b>Éxito V2</b> <a class=\"tocSkip\"></a>\n",
    "\n",
    "En este tipo de comprobaciones, cuando quieras verificar si los promedios de dos muestras independientes son iguales, o si son diferentes, no importa, deberás tener que:\n",
    "    \n",
    "* Tu hipótesis nula sea la que dice que los promedios **son iguales**.\n",
    "* Tu hipótesis alternativa sea la que dice que los promedios **son diferentes**.\n",
    "    \n",
    "Por definición, así se manejan estas comprobaciones de prueba T.\n",
    "</div>"
   ]
  },
  {
   "cell_type": "code",
   "execution_count": 54,
   "metadata": {},
   "outputs": [
    {
     "name": "stdout",
     "output_type": "stream",
     "text": [
      "p-value:  5.1974550252152054e-24\n",
      "Rechazamos la hipótesis nula\n"
     ]
    }
   ],
   "source": [
    "alpha = 0.05\n",
    "# si el valor p es menor que alfa, rechazamos la hipótesis\n",
    "\n",
    "results_hip2 = st.ttest_ind(games_user_score_action, games_user_score_sports)\n",
    "\n",
    "print('p-value: ', (results_hip2.pvalue))\n",
    "\n",
    "if results_hip2.pvalue< alpha:\n",
    "    print(\"Rechazamos la hipótesis nula\")\n",
    "else:\n",
    "    print(\"No rechazamos la hipótesis nula\") "
   ]
  },
  {
   "cell_type": "markdown",
   "metadata": {},
   "source": [
    "Rechazamos la hipotesis nula ya que el valor de p (5.19e-24) está muy por debajo del valor de alpha que es 0.05 Esto quiere decir que las calificaciones promedio de los usuarios para los géneros de Acción y Deportes son diferentes."
   ]
  },
  {
   "cell_type": "markdown",
   "metadata": {},
   "source": [
    "<div class=\"alert alert-block alert-danger\">\n",
    "\n",
    "<b>A resolver</b> <a class=\"tocSkip\"></a>\n",
    "\n",
    "Muy bien! pero y esto de arriba qué significa? que las calificaciones son iguales o diferentes?\n",
    "</div>"
   ]
  },
  {
   "cell_type": "markdown",
   "metadata": {},
   "source": [
    "<div class=\"alert alert-block alert-info\">\n",
    "<b>Respuesta del estudiante.</b> <a class=\"tocSkip\"></a>\n",
    "\n",
    "    \n",
    "Listo, gracias!"
   ]
  },
  {
   "cell_type": "markdown",
   "metadata": {},
   "source": [
    "<div class=\"alert alert-block alert-success\">\n",
    "<b>Éxito V2</b> <a class=\"tocSkip\"></a>\n",
    "\n",
    "Correcto!    \n",
    "</div>"
   ]
  },
  {
   "cell_type": "markdown",
   "metadata": {},
   "source": [
    "### Conclusión"
   ]
  },
  {
   "cell_type": "markdown",
   "metadata": {},
   "source": [
    "Al inicio, encontramos que una columna tenía formato object, por lo que tuvimos que ajustar a formato numérico y ajustar los valores de “tbd” a NaN para poder hacer este ajuste.\n",
    "\n",
    "No pudimos rellenar los valores ausentes year_of_release ni en score debido a que esta es una pregunta de negocio y no podemos modificar estos valores, ya que podemos estar afectando los resultados. Por lo que pasamos a eliminar los ausentes de year_of_release, name y genre.\n",
    "\n",
    "Calculamos las ventas totales y la almacenamos en la variable total_sales.\n",
    "\n",
    "A partir del año 1994, los videojuegos comenzaron a tener un alza en ventas y encontramos que las plataformas con más ventas son las siguientes:\n",
    "* #1 Playstation 2\n",
    "* #2 Xbox 360\n",
    "* #3 Playstation 3\n",
    "* #4 Wii\n",
    "* #5 Nintendo DS.\n",
    "\n",
    "Encontramos que el tiempo aproximado para que una plataforma llegue a su pico máximo de ventas es de 4 a 5 años, y lo mismo sucede con su declive, aproximadamente les toma 5 años.\n",
    "\n",
    "Encontramos que las plataformas que potencialmente sean rentables ya que van en subida para tener su punto máximo son: PS4 y Xbox One.\n",
    "\n",
    "Encontramos que hay una correlación positiva entre las calificaciones de los críticos y las ventas de la plataforma PS2, baja pero sí hay una correlación.\n",
    "\n",
    "Los géneros de videojuegos con más ventas del 2011 al 2016 son:\n",
    "* #1 Acción\n",
    "* #2 Shooter\n",
    "* #3 Role-playing\n",
    "* #4 Deporte\n",
    "* #5 Misc\n",
    "\n",
    "Al hacer un análisis por región vemos que Norteamérica y Europa tienen similitudes en cuanto a las ventas por género de videojuegos y clasificación ESRB. Mientras que Japón, suele tener géneros y clasificaciones distintas a las otras regiones. Sin embargo, cuando se trata de ventas por plataforma, las 3 regiones tienen plataformas distintas y diferencia de ventas muy grandes.\n",
    "\n",
    "En cuanto a hipótesis, no rechazamos la hipótesis nula de “Las calificaciones promedio de los usuarios para las plataformas Xbox One y PC son las mismas” mientras que sí rechazamos la hipótesis nula para “Las calificaciones promedio de los usuarios para los géneros de Acción y Deportes no son diferentes.”"
   ]
  },
  {
   "cell_type": "markdown",
   "metadata": {},
   "source": [
    "<div class=\"alert alert-block alert-danger\">\n",
    "\n",
    "<b>A resolver</b> <a class=\"tocSkip\"></a>\n",
    "\n",
    "Muy buenas conclusiones recapitulando todo! :) Sólo te digo que si las correcciones cambian tus resultados, puedes complementar/corregir tus conclusiones en consecuencia, de ser necesario.\n",
    "</div>"
   ]
  },
  {
   "cell_type": "markdown",
   "metadata": {},
   "source": [
    "<div class=\"alert alert-block alert-info\">\n",
    "<b>Respuesta del estudiante.</b> <a class=\"tocSkip\"></a>\n",
    "\n",
    "    \n",
    "Corregí cosas mínimas en las conclusiones, como lo de las hipotesis y eliminar valores ausentes en year_of_release, name y genre. Gracias David! Muy buenos comentarios!"
   ]
  },
  {
   "cell_type": "markdown",
   "metadata": {},
   "source": [
    "<div class=\"alert alert-block alert-success\">\n",
    "<b>Éxito V2</b> <a class=\"tocSkip\"></a>\n",
    "\n",
    "Gracias a ti! espero que hayas aprendido algunas cosas y que te haya ayudado, saludos :)    \n",
    "</div>"
   ]
  },
  {
   "cell_type": "code",
   "execution_count": null,
   "metadata": {},
   "outputs": [],
   "source": []
  }
 ],
 "metadata": {
  "ExecuteTimeLog": [
   {
    "duration": 419,
    "start_time": "2022-06-24T17:47:17.911Z"
   },
   {
    "duration": 58,
    "start_time": "2022-06-24T18:12:04.374Z"
   },
   {
    "duration": 3,
    "start_time": "2022-06-24T18:12:08.856Z"
   },
   {
    "duration": 182,
    "start_time": "2022-06-24T18:12:08.860Z"
   },
   {
    "duration": 18,
    "start_time": "2022-06-24T18:12:09.044Z"
   },
   {
    "duration": 3,
    "start_time": "2022-06-24T18:14:28.818Z"
   },
   {
    "duration": 14,
    "start_time": "2022-06-24T18:14:37.584Z"
   },
   {
    "duration": 13,
    "start_time": "2022-06-24T18:16:10.588Z"
   },
   {
    "duration": 7,
    "start_time": "2022-06-24T18:17:06.261Z"
   },
   {
    "duration": 6,
    "start_time": "2022-06-24T18:17:23.906Z"
   },
   {
    "duration": 7,
    "start_time": "2022-06-24T18:17:31.797Z"
   },
   {
    "duration": 13,
    "start_time": "2022-06-24T18:21:31.060Z"
   },
   {
    "duration": 11,
    "start_time": "2022-06-24T18:21:37.848Z"
   },
   {
    "duration": 10,
    "start_time": "2022-06-24T18:23:35.169Z"
   },
   {
    "duration": 364,
    "start_time": "2022-06-24T20:51:37.403Z"
   },
   {
    "duration": 90,
    "start_time": "2022-06-24T20:51:37.769Z"
   },
   {
    "duration": 21,
    "start_time": "2022-06-24T20:51:37.860Z"
   },
   {
    "duration": 5,
    "start_time": "2022-06-24T20:51:37.883Z"
   },
   {
    "duration": 17,
    "start_time": "2022-06-24T20:51:37.890Z"
   },
   {
    "duration": 7,
    "start_time": "2022-06-24T20:51:37.908Z"
   },
   {
    "duration": 105,
    "start_time": "2022-06-24T20:51:37.917Z"
   },
   {
    "duration": 3,
    "start_time": "2022-06-24T20:52:33.548Z"
   },
   {
    "duration": 14,
    "start_time": "2022-06-24T20:52:41.106Z"
   },
   {
    "duration": 13,
    "start_time": "2022-06-24T20:56:33.308Z"
   },
   {
    "duration": 7,
    "start_time": "2022-06-24T21:00:02.452Z"
   },
   {
    "duration": 8,
    "start_time": "2022-06-24T21:00:16.013Z"
   },
   {
    "duration": 7,
    "start_time": "2022-06-24T21:00:41.234Z"
   },
   {
    "duration": 365,
    "start_time": "2022-06-24T21:01:17.906Z"
   },
   {
    "duration": 9,
    "start_time": "2022-06-24T21:03:18.972Z"
   },
   {
    "duration": 9,
    "start_time": "2022-06-24T21:09:02.682Z"
   },
   {
    "duration": 5,
    "start_time": "2022-06-24T21:09:11.457Z"
   },
   {
    "duration": 8,
    "start_time": "2022-06-24T21:09:14.361Z"
   },
   {
    "duration": 9,
    "start_time": "2022-06-24T21:09:41.012Z"
   },
   {
    "duration": 9,
    "start_time": "2022-06-24T21:10:03.283Z"
   },
   {
    "duration": 9,
    "start_time": "2022-06-24T21:10:07.427Z"
   },
   {
    "duration": 13,
    "start_time": "2022-06-24T21:10:15.703Z"
   },
   {
    "duration": 6,
    "start_time": "2022-06-24T21:31:02.397Z"
   },
   {
    "duration": 16,
    "start_time": "2022-06-24T21:31:13.900Z"
   },
   {
    "duration": 20,
    "start_time": "2022-06-24T21:35:22.599Z"
   },
   {
    "duration": 15,
    "start_time": "2022-06-24T21:38:24.119Z"
   },
   {
    "duration": 13,
    "start_time": "2022-06-24T21:38:58.187Z"
   },
   {
    "duration": 6,
    "start_time": "2022-06-24T21:39:17.824Z"
   },
   {
    "duration": 13,
    "start_time": "2022-06-24T21:39:19.609Z"
   },
   {
    "duration": 3,
    "start_time": "2022-06-24T21:39:26.086Z"
   },
   {
    "duration": 51,
    "start_time": "2022-06-24T21:39:26.092Z"
   },
   {
    "duration": 13,
    "start_time": "2022-06-24T21:39:26.145Z"
   },
   {
    "duration": 6,
    "start_time": "2022-06-24T21:39:26.160Z"
   },
   {
    "duration": 16,
    "start_time": "2022-06-24T21:39:26.168Z"
   },
   {
    "duration": 5,
    "start_time": "2022-06-24T21:39:26.186Z"
   },
   {
    "duration": 9,
    "start_time": "2022-06-24T21:39:26.192Z"
   },
   {
    "duration": 19,
    "start_time": "2022-06-24T21:39:26.202Z"
   },
   {
    "duration": 15,
    "start_time": "2022-06-24T21:39:26.223Z"
   },
   {
    "duration": 4,
    "start_time": "2022-06-24T21:39:26.240Z"
   },
   {
    "duration": 31,
    "start_time": "2022-06-24T21:39:26.245Z"
   },
   {
    "duration": 16,
    "start_time": "2022-06-24T21:39:26.278Z"
   },
   {
    "duration": 5,
    "start_time": "2022-06-24T21:41:22.033Z"
   },
   {
    "duration": 2,
    "start_time": "2022-06-24T21:41:26.559Z"
   },
   {
    "duration": 52,
    "start_time": "2022-06-24T21:41:26.565Z"
   },
   {
    "duration": 13,
    "start_time": "2022-06-24T21:41:26.619Z"
   },
   {
    "duration": 4,
    "start_time": "2022-06-24T21:41:26.634Z"
   },
   {
    "duration": 14,
    "start_time": "2022-06-24T21:41:26.640Z"
   },
   {
    "duration": 11,
    "start_time": "2022-06-24T21:41:26.656Z"
   },
   {
    "duration": 4,
    "start_time": "2022-06-24T21:41:26.669Z"
   },
   {
    "duration": 9,
    "start_time": "2022-06-24T21:41:26.675Z"
   },
   {
    "duration": 16,
    "start_time": "2022-06-24T21:41:26.686Z"
   },
   {
    "duration": 17,
    "start_time": "2022-06-24T21:41:26.703Z"
   },
   {
    "duration": 4,
    "start_time": "2022-06-24T21:41:26.723Z"
   },
   {
    "duration": 43,
    "start_time": "2022-06-24T21:41:26.728Z"
   },
   {
    "duration": 19,
    "start_time": "2022-06-24T21:41:26.773Z"
   },
   {
    "duration": 16,
    "start_time": "2022-06-24T21:51:08.083Z"
   },
   {
    "duration": 370,
    "start_time": "2022-06-24T21:51:32.227Z"
   },
   {
    "duration": 50,
    "start_time": "2022-06-24T21:51:32.599Z"
   },
   {
    "duration": 21,
    "start_time": "2022-06-24T21:51:32.651Z"
   },
   {
    "duration": 3,
    "start_time": "2022-06-24T21:51:32.674Z"
   },
   {
    "duration": 16,
    "start_time": "2022-06-24T21:51:32.678Z"
   },
   {
    "duration": 4,
    "start_time": "2022-06-24T21:51:32.696Z"
   },
   {
    "duration": 7,
    "start_time": "2022-06-24T21:51:32.701Z"
   },
   {
    "duration": 14,
    "start_time": "2022-06-24T21:51:32.710Z"
   },
   {
    "duration": 16,
    "start_time": "2022-06-24T21:51:32.726Z"
   },
   {
    "duration": 16,
    "start_time": "2022-06-24T21:51:32.768Z"
   },
   {
    "duration": 5,
    "start_time": "2022-06-24T21:51:32.786Z"
   },
   {
    "duration": 14,
    "start_time": "2022-06-24T21:51:32.793Z"
   },
   {
    "duration": 95,
    "start_time": "2022-06-24T21:51:32.809Z"
   },
   {
    "duration": 14,
    "start_time": "2022-06-24T21:52:52.678Z"
   },
   {
    "duration": 25,
    "start_time": "2022-06-24T21:53:37.418Z"
   },
   {
    "duration": 13,
    "start_time": "2022-06-24T21:53:51.994Z"
   },
   {
    "duration": 660,
    "start_time": "2022-06-24T21:54:35.974Z"
   },
   {
    "duration": 14,
    "start_time": "2022-06-24T21:55:08.248Z"
   },
   {
    "duration": 125,
    "start_time": "2022-06-24T21:55:16.521Z"
   },
   {
    "duration": 367,
    "start_time": "2022-06-24T21:55:21.892Z"
   },
   {
    "duration": 351,
    "start_time": "2022-06-24T21:55:42.055Z"
   },
   {
    "duration": 328,
    "start_time": "2022-06-24T21:55:54.215Z"
   },
   {
    "duration": 14,
    "start_time": "2022-06-24T22:05:48.551Z"
   },
   {
    "duration": 2494,
    "start_time": "2022-06-24T22:06:02.662Z"
   },
   {
    "duration": 62,
    "start_time": "2022-06-24T22:07:35.981Z"
   },
   {
    "duration": 2660,
    "start_time": "2022-06-24T22:08:08.110Z"
   },
   {
    "duration": 2836,
    "start_time": "2022-06-24T22:08:25.757Z"
   },
   {
    "duration": 3061,
    "start_time": "2022-06-24T22:08:34.511Z"
   },
   {
    "duration": 291,
    "start_time": "2022-06-24T22:11:43.387Z"
   },
   {
    "duration": 7,
    "start_time": "2022-06-24T22:24:44.260Z"
   },
   {
    "duration": 2040,
    "start_time": "2022-06-24T22:25:13.402Z"
   },
   {
    "duration": 427,
    "start_time": "2022-06-27T15:41:10.321Z"
   },
   {
    "duration": 175,
    "start_time": "2022-06-27T15:41:10.750Z"
   },
   {
    "duration": 20,
    "start_time": "2022-06-27T15:41:10.926Z"
   },
   {
    "duration": 3,
    "start_time": "2022-06-27T15:41:10.948Z"
   },
   {
    "duration": 21,
    "start_time": "2022-06-27T15:41:10.953Z"
   },
   {
    "duration": 4,
    "start_time": "2022-06-27T15:41:10.976Z"
   },
   {
    "duration": 6,
    "start_time": "2022-06-27T15:41:10.982Z"
   },
   {
    "duration": 7,
    "start_time": "2022-06-27T15:41:10.990Z"
   },
   {
    "duration": 21,
    "start_time": "2022-06-27T15:41:10.998Z"
   },
   {
    "duration": 40,
    "start_time": "2022-06-27T15:41:11.021Z"
   },
   {
    "duration": 6,
    "start_time": "2022-06-27T15:41:11.064Z"
   },
   {
    "duration": 22,
    "start_time": "2022-06-27T15:41:11.071Z"
   },
   {
    "duration": 730,
    "start_time": "2022-06-27T15:41:11.094Z"
   },
   {
    "duration": 286,
    "start_time": "2022-06-27T15:41:11.825Z"
   },
   {
    "duration": 8,
    "start_time": "2022-06-27T15:41:12.113Z"
   },
   {
    "duration": 1374,
    "start_time": "2022-06-27T15:41:12.123Z"
   },
   {
    "duration": 1428,
    "start_time": "2022-06-27T15:44:04.703Z"
   },
   {
    "duration": 3,
    "start_time": "2022-06-27T17:05:10.426Z"
   },
   {
    "duration": 50,
    "start_time": "2022-06-27T17:05:10.434Z"
   },
   {
    "duration": 14,
    "start_time": "2022-06-27T17:05:10.487Z"
   },
   {
    "duration": 4,
    "start_time": "2022-06-27T17:05:10.503Z"
   },
   {
    "duration": 19,
    "start_time": "2022-06-27T17:05:10.509Z"
   },
   {
    "duration": 4,
    "start_time": "2022-06-27T17:05:10.529Z"
   },
   {
    "duration": 6,
    "start_time": "2022-06-27T17:05:10.552Z"
   },
   {
    "duration": 8,
    "start_time": "2022-06-27T17:05:10.560Z"
   },
   {
    "duration": 14,
    "start_time": "2022-06-27T17:05:10.570Z"
   },
   {
    "duration": 16,
    "start_time": "2022-06-27T17:05:10.586Z"
   },
   {
    "duration": 4,
    "start_time": "2022-06-27T17:05:10.605Z"
   },
   {
    "duration": 42,
    "start_time": "2022-06-27T17:05:10.611Z"
   },
   {
    "duration": 366,
    "start_time": "2022-06-27T17:05:10.655Z"
   },
   {
    "duration": 326,
    "start_time": "2022-06-27T17:05:11.023Z"
   },
   {
    "duration": 8,
    "start_time": "2022-06-27T17:05:14.104Z"
   },
   {
    "duration": 1380,
    "start_time": "2022-06-27T17:05:16.893Z"
   },
   {
    "duration": 328,
    "start_time": "2022-06-27T18:32:30.344Z"
   },
   {
    "duration": 8,
    "start_time": "2022-06-27T18:34:54.205Z"
   },
   {
    "duration": 1095,
    "start_time": "2022-06-27T18:34:55.279Z"
   },
   {
    "duration": 7,
    "start_time": "2022-06-27T18:42:24.999Z"
   },
   {
    "duration": 75,
    "start_time": "2022-06-27T18:42:42.712Z"
   },
   {
    "duration": 9,
    "start_time": "2022-06-27T18:42:49.614Z"
   },
   {
    "duration": 9,
    "start_time": "2022-06-27T18:43:01.864Z"
   },
   {
    "duration": 9,
    "start_time": "2022-06-27T18:43:10.303Z"
   },
   {
    "duration": 3,
    "start_time": "2022-06-27T20:10:56.681Z"
   },
   {
    "duration": 54,
    "start_time": "2022-06-27T20:10:56.686Z"
   },
   {
    "duration": 15,
    "start_time": "2022-06-27T20:10:56.742Z"
   },
   {
    "duration": 10,
    "start_time": "2022-06-27T20:10:56.759Z"
   },
   {
    "duration": 17,
    "start_time": "2022-06-27T20:10:56.772Z"
   },
   {
    "duration": 5,
    "start_time": "2022-06-27T20:10:56.791Z"
   },
   {
    "duration": 6,
    "start_time": "2022-06-27T20:10:56.798Z"
   },
   {
    "duration": 9,
    "start_time": "2022-06-27T20:10:56.805Z"
   },
   {
    "duration": 17,
    "start_time": "2022-06-27T20:10:56.816Z"
   },
   {
    "duration": 16,
    "start_time": "2022-06-27T20:10:56.853Z"
   },
   {
    "duration": 5,
    "start_time": "2022-06-27T20:10:56.871Z"
   },
   {
    "duration": 17,
    "start_time": "2022-06-27T20:10:56.877Z"
   },
   {
    "duration": 376,
    "start_time": "2022-06-27T20:10:56.896Z"
   },
   {
    "duration": 294,
    "start_time": "2022-06-27T20:10:57.275Z"
   },
   {
    "duration": 9,
    "start_time": "2022-06-27T20:10:57.571Z"
   },
   {
    "duration": 9,
    "start_time": "2022-06-27T20:10:57.582Z"
   },
   {
    "duration": 1152,
    "start_time": "2022-06-27T20:10:57.593Z"
   },
   {
    "duration": 7,
    "start_time": "2022-06-27T20:13:26.190Z"
   },
   {
    "duration": 503,
    "start_time": "2022-06-27T20:13:27.220Z"
   },
   {
    "duration": 421,
    "start_time": "2022-06-27T20:30:55.146Z"
   },
   {
    "duration": 51,
    "start_time": "2022-06-27T20:30:55.569Z"
   },
   {
    "duration": 21,
    "start_time": "2022-06-27T20:30:55.621Z"
   },
   {
    "duration": 3,
    "start_time": "2022-06-27T20:30:55.644Z"
   },
   {
    "duration": 15,
    "start_time": "2022-06-27T20:30:55.649Z"
   },
   {
    "duration": 5,
    "start_time": "2022-06-27T20:30:55.666Z"
   },
   {
    "duration": 4,
    "start_time": "2022-06-27T20:30:55.673Z"
   },
   {
    "duration": 7,
    "start_time": "2022-06-27T20:30:55.678Z"
   },
   {
    "duration": 16,
    "start_time": "2022-06-27T20:30:55.687Z"
   },
   {
    "duration": 16,
    "start_time": "2022-06-27T20:30:55.705Z"
   },
   {
    "duration": 5,
    "start_time": "2022-06-27T20:30:55.722Z"
   },
   {
    "duration": 15,
    "start_time": "2022-06-27T20:30:55.753Z"
   },
   {
    "duration": 584,
    "start_time": "2022-06-27T20:30:55.769Z"
   },
   {
    "duration": 290,
    "start_time": "2022-06-27T20:30:56.355Z"
   },
   {
    "duration": 11,
    "start_time": "2022-06-27T20:30:56.647Z"
   },
   {
    "duration": 10,
    "start_time": "2022-06-27T20:30:56.659Z"
   },
   {
    "duration": 579,
    "start_time": "2022-06-27T20:30:56.670Z"
   },
   {
    "duration": 382,
    "start_time": "2022-06-27T20:43:58.794Z"
   },
   {
    "duration": 174,
    "start_time": "2022-06-27T20:43:59.178Z"
   },
   {
    "duration": 19,
    "start_time": "2022-06-27T20:43:59.354Z"
   },
   {
    "duration": 3,
    "start_time": "2022-06-27T20:43:59.375Z"
   },
   {
    "duration": 16,
    "start_time": "2022-06-27T20:43:59.379Z"
   },
   {
    "duration": 4,
    "start_time": "2022-06-27T20:43:59.396Z"
   },
   {
    "duration": 10,
    "start_time": "2022-06-27T20:43:59.401Z"
   },
   {
    "duration": 9,
    "start_time": "2022-06-27T20:43:59.412Z"
   },
   {
    "duration": 41,
    "start_time": "2022-06-27T20:43:59.423Z"
   },
   {
    "duration": 16,
    "start_time": "2022-06-27T20:43:59.466Z"
   },
   {
    "duration": 5,
    "start_time": "2022-06-27T20:43:59.483Z"
   },
   {
    "duration": 15,
    "start_time": "2022-06-27T20:43:59.489Z"
   },
   {
    "duration": 583,
    "start_time": "2022-06-27T20:43:59.505Z"
   },
   {
    "duration": 302,
    "start_time": "2022-06-27T20:44:00.090Z"
   },
   {
    "duration": 8,
    "start_time": "2022-06-27T20:44:00.393Z"
   },
   {
    "duration": 28,
    "start_time": "2022-06-27T20:44:00.402Z"
   },
   {
    "duration": 571,
    "start_time": "2022-06-27T20:44:00.432Z"
   },
   {
    "duration": 236165,
    "start_time": "2022-06-27T20:44:01.005Z"
   },
   {
    "duration": 530,
    "start_time": "2022-06-27T20:51:03.692Z"
   },
   {
    "duration": 339,
    "start_time": "2022-06-27T21:05:35.811Z"
   },
   {
    "duration": 68,
    "start_time": "2022-06-27T21:13:05.915Z"
   },
   {
    "duration": 94,
    "start_time": "2022-06-27T21:13:22.223Z"
   },
   {
    "duration": 102,
    "start_time": "2022-06-27T21:13:48.631Z"
   },
   {
    "duration": 8,
    "start_time": "2022-06-27T21:15:22.848Z"
   },
   {
    "duration": 5,
    "start_time": "2022-06-27T21:15:44.517Z"
   },
   {
    "duration": 5,
    "start_time": "2022-06-27T21:16:00.294Z"
   },
   {
    "duration": 371,
    "start_time": "2022-06-27T21:20:09.226Z"
   },
   {
    "duration": 4,
    "start_time": "2022-06-27T21:20:09.599Z"
   },
   {
    "duration": 118,
    "start_time": "2022-06-27T21:20:09.604Z"
   },
   {
    "duration": 11,
    "start_time": "2022-06-27T21:27:35.369Z"
   },
   {
    "duration": 102,
    "start_time": "2022-06-27T21:27:53.239Z"
   },
   {
    "duration": 104,
    "start_time": "2022-06-27T21:28:45.390Z"
   },
   {
    "duration": 112,
    "start_time": "2022-06-27T21:47:24.754Z"
   },
   {
    "duration": 117,
    "start_time": "2022-06-27T21:49:02.341Z"
   },
   {
    "duration": 98,
    "start_time": "2022-06-27T21:49:35.399Z"
   },
   {
    "duration": 115,
    "start_time": "2022-06-27T21:49:43.959Z"
   },
   {
    "duration": 117,
    "start_time": "2022-06-27T22:41:09.830Z"
   },
   {
    "duration": 13,
    "start_time": "2022-06-27T22:41:40.924Z"
   },
   {
    "duration": 9,
    "start_time": "2022-06-27T22:42:08.302Z"
   },
   {
    "duration": 2,
    "start_time": "2022-06-27T22:42:16.650Z"
   },
   {
    "duration": 48,
    "start_time": "2022-06-27T22:42:16.654Z"
   },
   {
    "duration": 13,
    "start_time": "2022-06-27T22:42:16.704Z"
   },
   {
    "duration": 6,
    "start_time": "2022-06-27T22:42:16.719Z"
   },
   {
    "duration": 18,
    "start_time": "2022-06-27T22:42:16.726Z"
   },
   {
    "duration": 7,
    "start_time": "2022-06-27T22:42:16.746Z"
   },
   {
    "duration": 6,
    "start_time": "2022-06-27T22:42:16.754Z"
   },
   {
    "duration": 8,
    "start_time": "2022-06-27T22:42:16.762Z"
   },
   {
    "duration": 14,
    "start_time": "2022-06-27T22:42:16.772Z"
   },
   {
    "duration": 14,
    "start_time": "2022-06-27T22:42:16.788Z"
   },
   {
    "duration": 4,
    "start_time": "2022-06-27T22:42:16.804Z"
   },
   {
    "duration": 45,
    "start_time": "2022-06-27T22:42:16.809Z"
   },
   {
    "duration": 333,
    "start_time": "2022-06-27T22:42:16.855Z"
   },
   {
    "duration": 291,
    "start_time": "2022-06-27T22:42:17.190Z"
   },
   {
    "duration": 8,
    "start_time": "2022-06-27T22:42:17.484Z"
   },
   {
    "duration": 9,
    "start_time": "2022-06-27T22:42:17.494Z"
   },
   {
    "duration": 507,
    "start_time": "2022-06-27T22:42:17.504Z"
   },
   {
    "duration": 379,
    "start_time": "2022-06-27T22:42:18.013Z"
   },
   {
    "duration": 115,
    "start_time": "2022-06-27T22:42:18.393Z"
   },
   {
    "duration": 116,
    "start_time": "2022-06-27T22:42:18.510Z"
   },
   {
    "duration": 9,
    "start_time": "2022-06-27T22:42:18.628Z"
   },
   {
    "duration": 29,
    "start_time": "2022-06-27T22:42:31.877Z"
   },
   {
    "duration": 11,
    "start_time": "2022-06-27T22:42:38.173Z"
   },
   {
    "duration": 18,
    "start_time": "2022-06-27T22:43:03.548Z"
   },
   {
    "duration": 132,
    "start_time": "2022-06-27T22:43:19.360Z"
   },
   {
    "duration": 130,
    "start_time": "2022-06-27T22:43:33.598Z"
   },
   {
    "duration": 130,
    "start_time": "2022-06-27T22:43:38.426Z"
   },
   {
    "duration": 143,
    "start_time": "2022-06-27T22:43:41.739Z"
   },
   {
    "duration": 134,
    "start_time": "2022-06-27T22:43:49.997Z"
   },
   {
    "duration": 133,
    "start_time": "2022-06-27T22:43:53.372Z"
   },
   {
    "duration": 16,
    "start_time": "2022-06-27T22:44:25.673Z"
   },
   {
    "duration": 127,
    "start_time": "2022-06-27T22:44:28.441Z"
   },
   {
    "duration": 127,
    "start_time": "2022-06-27T22:44:35.480Z"
   },
   {
    "duration": 205,
    "start_time": "2022-06-27T22:54:22.050Z"
   },
   {
    "duration": 13,
    "start_time": "2022-06-27T22:54:53.768Z"
   },
   {
    "duration": 16,
    "start_time": "2022-06-27T22:55:15.838Z"
   },
   {
    "duration": 15,
    "start_time": "2022-06-27T22:55:28.398Z"
   },
   {
    "duration": 18,
    "start_time": "2022-06-27T22:55:48.569Z"
   },
   {
    "duration": 13,
    "start_time": "2022-06-27T22:55:56.430Z"
   },
   {
    "duration": 13,
    "start_time": "2022-06-27T23:22:52.880Z"
   },
   {
    "duration": 14,
    "start_time": "2022-06-27T23:25:40.392Z"
   },
   {
    "duration": 15,
    "start_time": "2022-06-27T23:27:37.738Z"
   },
   {
    "duration": 13,
    "start_time": "2022-06-27T23:27:55.604Z"
   },
   {
    "duration": 13,
    "start_time": "2022-06-27T23:28:11.167Z"
   },
   {
    "duration": 45,
    "start_time": "2022-06-28T16:16:08.812Z"
   },
   {
    "duration": 392,
    "start_time": "2022-06-28T16:16:12.780Z"
   },
   {
    "duration": 80,
    "start_time": "2022-06-28T16:16:13.174Z"
   },
   {
    "duration": 27,
    "start_time": "2022-06-28T16:16:13.256Z"
   },
   {
    "duration": 6,
    "start_time": "2022-06-28T16:16:13.286Z"
   },
   {
    "duration": 24,
    "start_time": "2022-06-28T16:16:13.295Z"
   },
   {
    "duration": 5,
    "start_time": "2022-06-28T16:16:13.322Z"
   },
   {
    "duration": 9,
    "start_time": "2022-06-28T16:16:13.328Z"
   },
   {
    "duration": 14,
    "start_time": "2022-06-28T16:16:13.339Z"
   },
   {
    "duration": 28,
    "start_time": "2022-06-28T16:16:13.355Z"
   },
   {
    "duration": 25,
    "start_time": "2022-06-28T16:16:13.385Z"
   },
   {
    "duration": 9,
    "start_time": "2022-06-28T16:16:13.424Z"
   },
   {
    "duration": 21,
    "start_time": "2022-06-28T16:16:13.435Z"
   },
   {
    "duration": 768,
    "start_time": "2022-06-28T16:16:13.459Z"
   },
   {
    "duration": 302,
    "start_time": "2022-06-28T16:16:14.230Z"
   },
   {
    "duration": 8,
    "start_time": "2022-06-28T16:16:14.534Z"
   },
   {
    "duration": 17,
    "start_time": "2022-06-28T16:16:14.544Z"
   },
   {
    "duration": 594,
    "start_time": "2022-06-28T16:16:14.563Z"
   },
   {
    "duration": 372,
    "start_time": "2022-06-28T16:16:15.159Z"
   },
   {
    "duration": 106,
    "start_time": "2022-06-28T16:16:15.533Z"
   },
   {
    "duration": 121,
    "start_time": "2022-06-28T16:16:15.640Z"
   },
   {
    "duration": 16,
    "start_time": "2022-06-28T16:16:15.762Z"
   },
   {
    "duration": 148,
    "start_time": "2022-06-28T16:16:15.780Z"
   },
   {
    "duration": 187,
    "start_time": "2022-06-28T16:16:15.929Z"
   },
   {
    "duration": 211,
    "start_time": "2022-06-28T16:16:16.118Z"
   },
   {
    "duration": 15,
    "start_time": "2022-06-28T16:16:16.331Z"
   },
   {
    "duration": 18,
    "start_time": "2022-06-28T16:16:16.347Z"
   },
   {
    "duration": 15,
    "start_time": "2022-06-28T16:16:16.367Z"
   },
   {
    "duration": 17,
    "start_time": "2022-06-28T16:16:16.384Z"
   },
   {
    "duration": 32,
    "start_time": "2022-06-28T16:16:16.402Z"
   },
   {
    "duration": 13,
    "start_time": "2022-06-28T16:17:35.293Z"
   },
   {
    "duration": 16,
    "start_time": "2022-06-28T16:17:36.009Z"
   },
   {
    "duration": 14,
    "start_time": "2022-06-28T16:17:36.768Z"
   },
   {
    "duration": 14,
    "start_time": "2022-06-28T16:23:26.036Z"
   },
   {
    "duration": 14,
    "start_time": "2022-06-28T16:24:24.236Z"
   },
   {
    "duration": 15,
    "start_time": "2022-06-28T16:24:31.588Z"
   },
   {
    "duration": 409,
    "start_time": "2022-06-28T23:10:11.793Z"
   },
   {
    "duration": 73,
    "start_time": "2022-06-28T23:10:12.204Z"
   },
   {
    "duration": 20,
    "start_time": "2022-06-28T23:10:12.279Z"
   },
   {
    "duration": 2,
    "start_time": "2022-06-28T23:10:12.301Z"
   },
   {
    "duration": 17,
    "start_time": "2022-06-28T23:10:12.306Z"
   },
   {
    "duration": 5,
    "start_time": "2022-06-28T23:10:12.324Z"
   },
   {
    "duration": 7,
    "start_time": "2022-06-28T23:10:12.330Z"
   },
   {
    "duration": 9,
    "start_time": "2022-06-28T23:10:12.338Z"
   },
   {
    "duration": 19,
    "start_time": "2022-06-28T23:10:12.349Z"
   },
   {
    "duration": 16,
    "start_time": "2022-06-28T23:10:12.370Z"
   },
   {
    "duration": 7,
    "start_time": "2022-06-28T23:10:12.388Z"
   },
   {
    "duration": 41,
    "start_time": "2022-06-28T23:10:12.397Z"
   },
   {
    "duration": 758,
    "start_time": "2022-06-28T23:10:12.440Z"
   },
   {
    "duration": 338,
    "start_time": "2022-06-28T23:10:13.202Z"
   },
   {
    "duration": 8,
    "start_time": "2022-06-28T23:10:13.541Z"
   },
   {
    "duration": 12,
    "start_time": "2022-06-28T23:10:13.551Z"
   },
   {
    "duration": 632,
    "start_time": "2022-06-28T23:10:13.565Z"
   },
   {
    "duration": 389,
    "start_time": "2022-06-28T23:10:14.199Z"
   },
   {
    "duration": 113,
    "start_time": "2022-06-28T23:10:14.589Z"
   },
   {
    "duration": 136,
    "start_time": "2022-06-28T23:10:14.704Z"
   },
   {
    "duration": 27,
    "start_time": "2022-06-28T23:10:14.842Z"
   },
   {
    "duration": 157,
    "start_time": "2022-06-28T23:10:14.872Z"
   },
   {
    "duration": 153,
    "start_time": "2022-06-28T23:10:15.031Z"
   },
   {
    "duration": 224,
    "start_time": "2022-06-28T23:10:15.186Z"
   },
   {
    "duration": 21,
    "start_time": "2022-06-28T23:10:15.412Z"
   },
   {
    "duration": 14,
    "start_time": "2022-06-28T23:10:15.434Z"
   },
   {
    "duration": 15,
    "start_time": "2022-06-28T23:10:15.449Z"
   },
   {
    "duration": 13,
    "start_time": "2022-06-28T23:10:15.465Z"
   },
   {
    "duration": 13,
    "start_time": "2022-06-28T23:10:15.480Z"
   },
   {
    "duration": 40,
    "start_time": "2022-06-28T23:10:15.495Z"
   },
   {
    "duration": 14,
    "start_time": "2022-06-28T23:10:15.537Z"
   },
   {
    "duration": 20,
    "start_time": "2022-06-28T23:10:15.552Z"
   },
   {
    "duration": 13,
    "start_time": "2022-06-28T23:10:15.574Z"
   },
   {
    "duration": 39,
    "start_time": "2022-06-28T23:10:15.589Z"
   },
   {
    "duration": 74,
    "start_time": "2022-06-28T23:10:15.630Z"
   },
   {
    "duration": 17,
    "start_time": "2022-06-28T23:10:35.715Z"
   },
   {
    "duration": 8,
    "start_time": "2022-06-28T23:11:25.336Z"
   },
   {
    "duration": 9,
    "start_time": "2022-06-28T23:12:03.505Z"
   },
   {
    "duration": 11,
    "start_time": "2022-06-28T23:12:18.386Z"
   },
   {
    "duration": 8,
    "start_time": "2022-06-28T23:12:23.571Z"
   },
   {
    "duration": 26,
    "start_time": "2022-06-28T23:12:31.424Z"
   },
   {
    "duration": 9,
    "start_time": "2022-06-28T23:12:43.148Z"
   },
   {
    "duration": 457,
    "start_time": "2022-06-28T23:15:42.842Z"
   },
   {
    "duration": 5,
    "start_time": "2022-06-28T23:17:25.570Z"
   },
   {
    "duration": 8,
    "start_time": "2022-06-28T23:20:31.849Z"
   },
   {
    "duration": 783,
    "start_time": "2022-06-28T23:20:44.580Z"
   },
   {
    "duration": 43,
    "start_time": "2022-06-28T23:20:45.365Z"
   },
   {
    "duration": 20,
    "start_time": "2022-06-28T23:20:45.410Z"
   },
   {
    "duration": 4,
    "start_time": "2022-06-28T23:20:45.432Z"
   },
   {
    "duration": 29,
    "start_time": "2022-06-28T23:20:45.439Z"
   },
   {
    "duration": 5,
    "start_time": "2022-06-28T23:20:45.469Z"
   },
   {
    "duration": 9,
    "start_time": "2022-06-28T23:20:45.475Z"
   },
   {
    "duration": 9,
    "start_time": "2022-06-28T23:20:45.485Z"
   },
   {
    "duration": 16,
    "start_time": "2022-06-28T23:20:45.496Z"
   },
   {
    "duration": 33,
    "start_time": "2022-06-28T23:20:45.514Z"
   },
   {
    "duration": 5,
    "start_time": "2022-06-28T23:20:45.549Z"
   },
   {
    "duration": 17,
    "start_time": "2022-06-28T23:20:45.556Z"
   },
   {
    "duration": 626,
    "start_time": "2022-06-28T23:20:45.575Z"
   },
   {
    "duration": 367,
    "start_time": "2022-06-28T23:20:46.204Z"
   },
   {
    "duration": 8,
    "start_time": "2022-06-28T23:20:46.572Z"
   },
   {
    "duration": 10,
    "start_time": "2022-06-28T23:20:46.581Z"
   },
   {
    "duration": 540,
    "start_time": "2022-06-28T23:20:46.592Z"
   },
   {
    "duration": 373,
    "start_time": "2022-06-28T23:20:47.134Z"
   },
   {
    "duration": 111,
    "start_time": "2022-06-28T23:20:47.508Z"
   },
   {
    "duration": 128,
    "start_time": "2022-06-28T23:20:47.626Z"
   },
   {
    "duration": 15,
    "start_time": "2022-06-28T23:20:47.756Z"
   },
   {
    "duration": 229,
    "start_time": "2022-06-28T23:20:47.773Z"
   },
   {
    "duration": 153,
    "start_time": "2022-06-28T23:20:48.004Z"
   },
   {
    "duration": 212,
    "start_time": "2022-06-28T23:20:48.159Z"
   },
   {
    "duration": 13,
    "start_time": "2022-06-28T23:20:48.373Z"
   },
   {
    "duration": 12,
    "start_time": "2022-06-28T23:20:48.388Z"
   },
   {
    "duration": 32,
    "start_time": "2022-06-28T23:20:48.402Z"
   },
   {
    "duration": 17,
    "start_time": "2022-06-28T23:20:48.438Z"
   },
   {
    "duration": 11,
    "start_time": "2022-06-28T23:20:48.457Z"
   },
   {
    "duration": 12,
    "start_time": "2022-06-28T23:20:48.470Z"
   },
   {
    "duration": 11,
    "start_time": "2022-06-28T23:20:48.483Z"
   },
   {
    "duration": 44,
    "start_time": "2022-06-28T23:20:48.496Z"
   },
   {
    "duration": 13,
    "start_time": "2022-06-28T23:20:48.541Z"
   },
   {
    "duration": 14,
    "start_time": "2022-06-28T23:20:48.555Z"
   },
   {
    "duration": 7,
    "start_time": "2022-06-28T23:20:48.570Z"
   },
   {
    "duration": 7,
    "start_time": "2022-06-28T23:20:48.579Z"
   },
   {
    "duration": 7,
    "start_time": "2022-06-28T23:20:48.588Z"
   },
   {
    "duration": 9,
    "start_time": "2022-06-28T23:21:07.710Z"
   },
   {
    "duration": 9,
    "start_time": "2022-06-28T23:21:26.843Z"
   },
   {
    "duration": 5,
    "start_time": "2022-06-28T23:21:33.691Z"
   },
   {
    "duration": 8,
    "start_time": "2022-06-28T23:23:29.308Z"
   },
   {
    "duration": 11,
    "start_time": "2022-06-28T23:23:34.025Z"
   },
   {
    "duration": 10,
    "start_time": "2022-06-29T00:28:39.831Z"
   },
   {
    "duration": 9,
    "start_time": "2022-06-29T00:28:48.101Z"
   },
   {
    "duration": 11,
    "start_time": "2022-06-29T00:28:49.783Z"
   },
   {
    "duration": 9,
    "start_time": "2022-06-29T00:29:28.126Z"
   },
   {
    "duration": 5,
    "start_time": "2022-06-29T00:30:14.843Z"
   },
   {
    "duration": 4,
    "start_time": "2022-06-29T00:32:19.411Z"
   },
   {
    "duration": 5,
    "start_time": "2022-06-29T00:32:40.268Z"
   },
   {
    "duration": 6,
    "start_time": "2022-06-29T00:32:52.621Z"
   },
   {
    "duration": 4,
    "start_time": "2022-06-29T00:43:41.791Z"
   },
   {
    "duration": 3,
    "start_time": "2022-06-29T00:43:52.400Z"
   },
   {
    "duration": 4,
    "start_time": "2022-06-29T00:43:54.958Z"
   },
   {
    "duration": 9,
    "start_time": "2022-06-29T00:45:15.612Z"
   },
   {
    "duration": 8,
    "start_time": "2022-06-29T00:45:18.396Z"
   },
   {
    "duration": 7,
    "start_time": "2022-06-29T00:45:28.871Z"
   },
   {
    "duration": 12,
    "start_time": "2022-06-29T00:45:30.683Z"
   },
   {
    "duration": 779,
    "start_time": "2022-06-30T16:46:49.794Z"
   },
   {
    "duration": 67,
    "start_time": "2022-06-30T16:46:50.574Z"
   },
   {
    "duration": 19,
    "start_time": "2022-06-30T16:46:50.642Z"
   },
   {
    "duration": 3,
    "start_time": "2022-06-30T16:46:50.663Z"
   },
   {
    "duration": 26,
    "start_time": "2022-06-30T16:46:50.668Z"
   },
   {
    "duration": 7,
    "start_time": "2022-06-30T16:46:50.695Z"
   },
   {
    "duration": 7,
    "start_time": "2022-06-30T16:46:50.703Z"
   },
   {
    "duration": 14,
    "start_time": "2022-06-30T16:46:50.712Z"
   },
   {
    "duration": 23,
    "start_time": "2022-06-30T16:46:50.728Z"
   },
   {
    "duration": 24,
    "start_time": "2022-06-30T16:46:50.753Z"
   },
   {
    "duration": 5,
    "start_time": "2022-06-30T16:46:50.779Z"
   },
   {
    "duration": 17,
    "start_time": "2022-06-30T16:46:50.785Z"
   },
   {
    "duration": 803,
    "start_time": "2022-06-30T16:46:50.803Z"
   },
   {
    "duration": 286,
    "start_time": "2022-06-30T16:46:51.609Z"
   },
   {
    "duration": 8,
    "start_time": "2022-06-30T16:46:51.896Z"
   },
   {
    "duration": 31,
    "start_time": "2022-06-30T16:46:51.905Z"
   },
   {
    "duration": 499,
    "start_time": "2022-06-30T16:46:51.937Z"
   },
   {
    "duration": 382,
    "start_time": "2022-06-30T16:46:52.438Z"
   },
   {
    "duration": 103,
    "start_time": "2022-06-30T16:46:52.821Z"
   },
   {
    "duration": 121,
    "start_time": "2022-06-30T16:46:52.925Z"
   },
   {
    "duration": 15,
    "start_time": "2022-06-30T16:46:53.051Z"
   },
   {
    "duration": 203,
    "start_time": "2022-06-30T16:46:53.068Z"
   },
   {
    "duration": 140,
    "start_time": "2022-06-30T16:46:53.272Z"
   },
   {
    "duration": 211,
    "start_time": "2022-06-30T16:46:53.413Z"
   },
   {
    "duration": 14,
    "start_time": "2022-06-30T16:46:53.625Z"
   },
   {
    "duration": 22,
    "start_time": "2022-06-30T16:46:53.640Z"
   },
   {
    "duration": 15,
    "start_time": "2022-06-30T16:46:53.663Z"
   },
   {
    "duration": 12,
    "start_time": "2022-06-30T16:46:53.680Z"
   },
   {
    "duration": 12,
    "start_time": "2022-06-30T16:46:53.694Z"
   },
   {
    "duration": 14,
    "start_time": "2022-06-30T16:46:53.707Z"
   },
   {
    "duration": 12,
    "start_time": "2022-06-30T16:46:53.752Z"
   },
   {
    "duration": 15,
    "start_time": "2022-06-30T16:46:53.766Z"
   },
   {
    "duration": 12,
    "start_time": "2022-06-30T16:46:53.782Z"
   },
   {
    "duration": 11,
    "start_time": "2022-06-30T16:46:53.796Z"
   },
   {
    "duration": 7,
    "start_time": "2022-06-30T16:46:53.808Z"
   },
   {
    "duration": 38,
    "start_time": "2022-06-30T16:46:53.817Z"
   },
   {
    "duration": 4,
    "start_time": "2022-06-30T16:46:53.857Z"
   },
   {
    "duration": 8,
    "start_time": "2022-06-30T16:46:53.863Z"
   },
   {
    "duration": 8,
    "start_time": "2022-06-30T16:46:53.873Z"
   },
   {
    "duration": 6,
    "start_time": "2022-06-30T16:46:53.882Z"
   },
   {
    "duration": 757,
    "start_time": "2022-07-02T23:25:12.614Z"
   },
   {
    "duration": 67,
    "start_time": "2022-07-02T23:25:13.373Z"
   },
   {
    "duration": 20,
    "start_time": "2022-07-02T23:25:13.441Z"
   },
   {
    "duration": 3,
    "start_time": "2022-07-02T23:25:13.462Z"
   },
   {
    "duration": 17,
    "start_time": "2022-07-02T23:25:13.467Z"
   },
   {
    "duration": 4,
    "start_time": "2022-07-02T23:25:13.486Z"
   },
   {
    "duration": 10,
    "start_time": "2022-07-02T23:25:13.491Z"
   },
   {
    "duration": 12,
    "start_time": "2022-07-02T23:25:13.503Z"
   },
   {
    "duration": 17,
    "start_time": "2022-07-02T23:25:13.516Z"
   },
   {
    "duration": 25,
    "start_time": "2022-07-02T23:25:13.534Z"
   },
   {
    "duration": 5,
    "start_time": "2022-07-02T23:25:13.561Z"
   },
   {
    "duration": 14,
    "start_time": "2022-07-02T23:25:13.567Z"
   },
   {
    "duration": 527,
    "start_time": "2022-07-02T23:25:13.583Z"
   },
   {
    "duration": 282,
    "start_time": "2022-07-02T23:25:14.112Z"
   },
   {
    "duration": 8,
    "start_time": "2022-07-02T23:25:14.396Z"
   },
   {
    "duration": 9,
    "start_time": "2022-07-02T23:25:14.405Z"
   },
   {
    "duration": 524,
    "start_time": "2022-07-02T23:25:14.416Z"
   },
   {
    "duration": 390,
    "start_time": "2022-07-02T23:25:14.942Z"
   },
   {
    "duration": 222,
    "start_time": "2022-07-02T23:25:18.965Z"
   },
   {
    "duration": 74,
    "start_time": "2022-07-03T16:22:37.839Z"
   },
   {
    "duration": 861,
    "start_time": "2022-07-03T16:22:58.989Z"
   },
   {
    "duration": 72,
    "start_time": "2022-07-03T16:22:59.853Z"
   },
   {
    "duration": 24,
    "start_time": "2022-07-03T16:22:59.929Z"
   },
   {
    "duration": 6,
    "start_time": "2022-07-03T16:22:59.955Z"
   },
   {
    "duration": 22,
    "start_time": "2022-07-03T16:22:59.963Z"
   },
   {
    "duration": 1323,
    "start_time": "2022-07-03T16:22:59.987Z"
   },
   {
    "duration": 0,
    "start_time": "2022-07-03T16:23:01.314Z"
   },
   {
    "duration": 0,
    "start_time": "2022-07-03T16:23:01.316Z"
   },
   {
    "duration": 0,
    "start_time": "2022-07-03T16:23:01.317Z"
   },
   {
    "duration": 0,
    "start_time": "2022-07-03T16:23:01.318Z"
   },
   {
    "duration": 0,
    "start_time": "2022-07-03T16:23:01.320Z"
   },
   {
    "duration": 0,
    "start_time": "2022-07-03T16:23:01.321Z"
   },
   {
    "duration": 0,
    "start_time": "2022-07-03T16:23:01.323Z"
   },
   {
    "duration": 0,
    "start_time": "2022-07-03T16:23:01.324Z"
   },
   {
    "duration": 0,
    "start_time": "2022-07-03T16:23:01.326Z"
   },
   {
    "duration": 0,
    "start_time": "2022-07-03T16:23:01.328Z"
   },
   {
    "duration": 0,
    "start_time": "2022-07-03T16:23:01.329Z"
   },
   {
    "duration": 0,
    "start_time": "2022-07-03T16:23:01.330Z"
   },
   {
    "duration": 0,
    "start_time": "2022-07-03T16:23:01.332Z"
   },
   {
    "duration": 0,
    "start_time": "2022-07-03T16:23:01.333Z"
   },
   {
    "duration": 0,
    "start_time": "2022-07-03T16:23:01.334Z"
   },
   {
    "duration": 0,
    "start_time": "2022-07-03T16:23:01.335Z"
   },
   {
    "duration": 1,
    "start_time": "2022-07-03T16:23:01.336Z"
   },
   {
    "duration": 0,
    "start_time": "2022-07-03T16:23:01.341Z"
   },
   {
    "duration": 0,
    "start_time": "2022-07-03T16:23:01.342Z"
   },
   {
    "duration": 0,
    "start_time": "2022-07-03T16:23:01.344Z"
   },
   {
    "duration": 0,
    "start_time": "2022-07-03T16:23:01.346Z"
   },
   {
    "duration": 0,
    "start_time": "2022-07-03T16:23:01.350Z"
   },
   {
    "duration": 0,
    "start_time": "2022-07-03T16:23:01.352Z"
   },
   {
    "duration": 0,
    "start_time": "2022-07-03T16:23:01.353Z"
   },
   {
    "duration": 0,
    "start_time": "2022-07-03T16:23:01.355Z"
   },
   {
    "duration": 0,
    "start_time": "2022-07-03T16:23:01.357Z"
   },
   {
    "duration": 0,
    "start_time": "2022-07-03T16:23:01.359Z"
   },
   {
    "duration": 0,
    "start_time": "2022-07-03T16:23:01.363Z"
   },
   {
    "duration": 0,
    "start_time": "2022-07-03T16:23:01.365Z"
   },
   {
    "duration": 0,
    "start_time": "2022-07-03T16:23:01.368Z"
   },
   {
    "duration": 0,
    "start_time": "2022-07-03T16:23:01.369Z"
   },
   {
    "duration": 0,
    "start_time": "2022-07-03T16:23:01.371Z"
   },
   {
    "duration": 0,
    "start_time": "2022-07-03T16:23:01.373Z"
   },
   {
    "duration": 0,
    "start_time": "2022-07-03T16:23:01.375Z"
   },
   {
    "duration": 13,
    "start_time": "2022-07-03T16:23:28.432Z"
   },
   {
    "duration": 876,
    "start_time": "2022-07-03T16:23:38.790Z"
   },
   {
    "duration": 42,
    "start_time": "2022-07-03T16:23:39.668Z"
   },
   {
    "duration": 33,
    "start_time": "2022-07-03T16:23:39.711Z"
   },
   {
    "duration": 5,
    "start_time": "2022-07-03T16:23:39.747Z"
   },
   {
    "duration": 20,
    "start_time": "2022-07-03T16:23:39.754Z"
   },
   {
    "duration": 1170,
    "start_time": "2022-07-03T16:23:39.776Z"
   },
   {
    "duration": 0,
    "start_time": "2022-07-03T16:23:40.949Z"
   },
   {
    "duration": 0,
    "start_time": "2022-07-03T16:23:40.950Z"
   },
   {
    "duration": 0,
    "start_time": "2022-07-03T16:23:40.952Z"
   },
   {
    "duration": 0,
    "start_time": "2022-07-03T16:23:40.953Z"
   },
   {
    "duration": 0,
    "start_time": "2022-07-03T16:23:40.954Z"
   },
   {
    "duration": 0,
    "start_time": "2022-07-03T16:23:40.955Z"
   },
   {
    "duration": 0,
    "start_time": "2022-07-03T16:23:40.957Z"
   },
   {
    "duration": 0,
    "start_time": "2022-07-03T16:23:40.959Z"
   },
   {
    "duration": 0,
    "start_time": "2022-07-03T16:23:40.961Z"
   },
   {
    "duration": 0,
    "start_time": "2022-07-03T16:23:40.962Z"
   },
   {
    "duration": 0,
    "start_time": "2022-07-03T16:23:40.964Z"
   },
   {
    "duration": 0,
    "start_time": "2022-07-03T16:23:40.966Z"
   },
   {
    "duration": 0,
    "start_time": "2022-07-03T16:23:40.967Z"
   },
   {
    "duration": 0,
    "start_time": "2022-07-03T16:23:40.969Z"
   },
   {
    "duration": 0,
    "start_time": "2022-07-03T16:23:40.970Z"
   },
   {
    "duration": 0,
    "start_time": "2022-07-03T16:23:40.971Z"
   },
   {
    "duration": 0,
    "start_time": "2022-07-03T16:23:40.972Z"
   },
   {
    "duration": 0,
    "start_time": "2022-07-03T16:23:40.974Z"
   },
   {
    "duration": 0,
    "start_time": "2022-07-03T16:23:40.975Z"
   },
   {
    "duration": 0,
    "start_time": "2022-07-03T16:23:40.976Z"
   },
   {
    "duration": 0,
    "start_time": "2022-07-03T16:23:40.977Z"
   },
   {
    "duration": 0,
    "start_time": "2022-07-03T16:23:40.978Z"
   },
   {
    "duration": 0,
    "start_time": "2022-07-03T16:23:40.979Z"
   },
   {
    "duration": 0,
    "start_time": "2022-07-03T16:23:40.980Z"
   },
   {
    "duration": 0,
    "start_time": "2022-07-03T16:23:40.981Z"
   },
   {
    "duration": 0,
    "start_time": "2022-07-03T16:23:40.983Z"
   },
   {
    "duration": 0,
    "start_time": "2022-07-03T16:23:40.984Z"
   },
   {
    "duration": 0,
    "start_time": "2022-07-03T16:23:40.985Z"
   },
   {
    "duration": 0,
    "start_time": "2022-07-03T16:23:40.986Z"
   },
   {
    "duration": 0,
    "start_time": "2022-07-03T16:23:40.987Z"
   },
   {
    "duration": 0,
    "start_time": "2022-07-03T16:23:41.030Z"
   },
   {
    "duration": 0,
    "start_time": "2022-07-03T16:23:41.031Z"
   },
   {
    "duration": 0,
    "start_time": "2022-07-03T16:23:41.033Z"
   },
   {
    "duration": 0,
    "start_time": "2022-07-03T16:23:41.033Z"
   },
   {
    "duration": 599,
    "start_time": "2022-07-03T16:24:53.334Z"
   },
   {
    "duration": 2700,
    "start_time": "2022-07-03T16:25:59.632Z"
   },
   {
    "duration": 2320,
    "start_time": "2022-07-03T16:26:18.272Z"
   },
   {
    "duration": 849,
    "start_time": "2022-07-03T16:27:26.535Z"
   },
   {
    "duration": 43,
    "start_time": "2022-07-03T16:27:28.870Z"
   },
   {
    "duration": 24,
    "start_time": "2022-07-03T16:27:30.351Z"
   },
   {
    "duration": 3,
    "start_time": "2022-07-03T16:27:33.462Z"
   },
   {
    "duration": 16,
    "start_time": "2022-07-03T16:27:33.773Z"
   },
   {
    "duration": 100,
    "start_time": "2022-07-03T16:27:35.934Z"
   },
   {
    "duration": 584,
    "start_time": "2022-07-03T16:28:06.543Z"
   },
   {
    "duration": 569,
    "start_time": "2022-07-03T16:28:23.336Z"
   },
   {
    "duration": 650,
    "start_time": "2022-07-03T16:28:31.070Z"
   },
   {
    "duration": 669,
    "start_time": "2022-07-03T16:28:48.957Z"
   },
   {
    "duration": 10,
    "start_time": "2022-07-03T16:30:54.155Z"
   },
   {
    "duration": 12,
    "start_time": "2022-07-03T16:32:12.278Z"
   },
   {
    "duration": 9,
    "start_time": "2022-07-03T16:32:35.044Z"
   },
   {
    "duration": 12,
    "start_time": "2022-07-03T16:33:21.107Z"
   },
   {
    "duration": 907,
    "start_time": "2022-07-03T16:35:19.487Z"
   },
   {
    "duration": 49,
    "start_time": "2022-07-03T16:35:20.397Z"
   },
   {
    "duration": 19,
    "start_time": "2022-07-03T16:35:20.448Z"
   },
   {
    "duration": 5,
    "start_time": "2022-07-03T16:35:20.469Z"
   },
   {
    "duration": 28,
    "start_time": "2022-07-03T16:35:20.475Z"
   },
   {
    "duration": 10,
    "start_time": "2022-07-03T16:35:47.862Z"
   },
   {
    "duration": 22,
    "start_time": "2022-07-03T16:35:50.303Z"
   },
   {
    "duration": 6,
    "start_time": "2022-07-03T16:36:16.681Z"
   },
   {
    "duration": 21,
    "start_time": "2022-07-03T16:36:24.873Z"
   },
   {
    "duration": 16,
    "start_time": "2022-07-03T16:37:46.974Z"
   },
   {
    "duration": 8,
    "start_time": "2022-07-03T16:37:46.993Z"
   },
   {
    "duration": 17,
    "start_time": "2022-07-03T16:37:47.003Z"
   },
   {
    "duration": 28,
    "start_time": "2022-07-03T16:37:47.021Z"
   },
   {
    "duration": 707,
    "start_time": "2022-07-03T16:37:47.052Z"
   },
   {
    "duration": 0,
    "start_time": "2022-07-03T16:37:47.765Z"
   },
   {
    "duration": 0,
    "start_time": "2022-07-03T16:37:47.766Z"
   },
   {
    "duration": 0,
    "start_time": "2022-07-03T16:37:47.767Z"
   },
   {
    "duration": 0,
    "start_time": "2022-07-03T16:37:47.768Z"
   },
   {
    "duration": 0,
    "start_time": "2022-07-03T16:37:47.770Z"
   },
   {
    "duration": 0,
    "start_time": "2022-07-03T16:37:47.771Z"
   },
   {
    "duration": 0,
    "start_time": "2022-07-03T16:37:47.773Z"
   },
   {
    "duration": 0,
    "start_time": "2022-07-03T16:37:47.774Z"
   },
   {
    "duration": 0,
    "start_time": "2022-07-03T16:37:47.775Z"
   },
   {
    "duration": 0,
    "start_time": "2022-07-03T16:37:47.777Z"
   },
   {
    "duration": 0,
    "start_time": "2022-07-03T16:37:47.778Z"
   },
   {
    "duration": 0,
    "start_time": "2022-07-03T16:37:47.780Z"
   },
   {
    "duration": 0,
    "start_time": "2022-07-03T16:37:47.781Z"
   },
   {
    "duration": 0,
    "start_time": "2022-07-03T16:37:47.783Z"
   },
   {
    "duration": 0,
    "start_time": "2022-07-03T16:37:47.785Z"
   },
   {
    "duration": 0,
    "start_time": "2022-07-03T16:37:47.787Z"
   },
   {
    "duration": 1,
    "start_time": "2022-07-03T16:37:47.788Z"
   },
   {
    "duration": 0,
    "start_time": "2022-07-03T16:37:47.790Z"
   },
   {
    "duration": 0,
    "start_time": "2022-07-03T16:37:47.791Z"
   },
   {
    "duration": 0,
    "start_time": "2022-07-03T16:37:47.792Z"
   },
   {
    "duration": 0,
    "start_time": "2022-07-03T16:37:47.794Z"
   },
   {
    "duration": 0,
    "start_time": "2022-07-03T16:37:47.795Z"
   },
   {
    "duration": 0,
    "start_time": "2022-07-03T16:37:47.796Z"
   },
   {
    "duration": 0,
    "start_time": "2022-07-03T16:37:47.797Z"
   },
   {
    "duration": 0,
    "start_time": "2022-07-03T16:37:47.798Z"
   },
   {
    "duration": 0,
    "start_time": "2022-07-03T16:37:47.799Z"
   },
   {
    "duration": 0,
    "start_time": "2022-07-03T16:37:47.801Z"
   },
   {
    "duration": 0,
    "start_time": "2022-07-03T16:37:47.802Z"
   },
   {
    "duration": 0,
    "start_time": "2022-07-03T16:37:47.803Z"
   },
   {
    "duration": 0,
    "start_time": "2022-07-03T16:37:47.828Z"
   },
   {
    "duration": 11,
    "start_time": "2022-07-03T16:38:31.880Z"
   },
   {
    "duration": 11,
    "start_time": "2022-07-03T16:38:57.214Z"
   },
   {
    "duration": 10,
    "start_time": "2022-07-03T16:40:41.982Z"
   },
   {
    "duration": 11,
    "start_time": "2022-07-03T16:40:51.198Z"
   },
   {
    "duration": 788,
    "start_time": "2022-07-03T16:41:09.464Z"
   },
   {
    "duration": 51,
    "start_time": "2022-07-03T16:41:10.254Z"
   },
   {
    "duration": 25,
    "start_time": "2022-07-03T16:41:10.307Z"
   },
   {
    "duration": 4,
    "start_time": "2022-07-03T16:41:10.333Z"
   },
   {
    "duration": 22,
    "start_time": "2022-07-03T16:41:10.340Z"
   },
   {
    "duration": 8,
    "start_time": "2022-07-03T16:41:10.364Z"
   },
   {
    "duration": 6,
    "start_time": "2022-07-03T16:41:10.374Z"
   },
   {
    "duration": 16,
    "start_time": "2022-07-03T16:41:10.382Z"
   },
   {
    "duration": 43,
    "start_time": "2022-07-03T16:41:10.399Z"
   },
   {
    "duration": 16,
    "start_time": "2022-07-03T16:41:10.444Z"
   },
   {
    "duration": 23,
    "start_time": "2022-07-03T16:41:10.461Z"
   },
   {
    "duration": 12,
    "start_time": "2022-07-03T16:41:13.681Z"
   },
   {
    "duration": 6,
    "start_time": "2022-07-03T16:42:30.403Z"
   },
   {
    "duration": 24,
    "start_time": "2022-07-03T16:42:30.413Z"
   },
   {
    "duration": 868,
    "start_time": "2022-07-03T16:42:30.439Z"
   },
   {
    "duration": 334,
    "start_time": "2022-07-03T16:42:31.310Z"
   },
   {
    "duration": 8,
    "start_time": "2022-07-03T16:42:31.646Z"
   },
   {
    "duration": 20,
    "start_time": "2022-07-03T16:42:31.656Z"
   },
   {
    "duration": 546,
    "start_time": "2022-07-03T16:42:31.678Z"
   },
   {
    "duration": 390,
    "start_time": "2022-07-03T16:42:32.226Z"
   },
   {
    "duration": 257,
    "start_time": "2022-07-03T16:42:32.618Z"
   },
   {
    "duration": 223,
    "start_time": "2022-07-03T16:42:32.877Z"
   },
   {
    "duration": 28,
    "start_time": "2022-07-03T16:42:33.102Z"
   },
   {
    "duration": 161,
    "start_time": "2022-07-03T16:42:33.132Z"
   },
   {
    "duration": 147,
    "start_time": "2022-07-03T16:42:33.294Z"
   },
   {
    "duration": 226,
    "start_time": "2022-07-03T16:42:33.445Z"
   },
   {
    "duration": 16,
    "start_time": "2022-07-03T16:42:33.673Z"
   },
   {
    "duration": 14,
    "start_time": "2022-07-03T16:42:33.691Z"
   },
   {
    "duration": 32,
    "start_time": "2022-07-03T16:42:33.707Z"
   },
   {
    "duration": 21,
    "start_time": "2022-07-03T16:42:33.741Z"
   },
   {
    "duration": 14,
    "start_time": "2022-07-03T16:42:33.763Z"
   },
   {
    "duration": 13,
    "start_time": "2022-07-03T16:42:33.778Z"
   },
   {
    "duration": 43,
    "start_time": "2022-07-03T16:42:33.792Z"
   },
   {
    "duration": 14,
    "start_time": "2022-07-03T16:42:33.837Z"
   },
   {
    "duration": 20,
    "start_time": "2022-07-03T16:42:33.852Z"
   },
   {
    "duration": 14,
    "start_time": "2022-07-03T16:42:33.873Z"
   },
   {
    "duration": 12,
    "start_time": "2022-07-03T16:42:33.889Z"
   },
   {
    "duration": 9,
    "start_time": "2022-07-03T16:42:33.926Z"
   },
   {
    "duration": 8,
    "start_time": "2022-07-03T16:42:33.937Z"
   },
   {
    "duration": 13,
    "start_time": "2022-07-03T16:42:33.946Z"
   },
   {
    "duration": 11,
    "start_time": "2022-07-03T16:42:33.961Z"
   },
   {
    "duration": 7,
    "start_time": "2022-07-03T16:42:33.974Z"
   },
   {
    "duration": 299,
    "start_time": "2022-07-03T16:47:39.158Z"
   },
   {
    "duration": 251,
    "start_time": "2022-07-03T16:48:04.708Z"
   },
   {
    "duration": 116,
    "start_time": "2022-07-03T16:54:00.006Z"
   },
   {
    "duration": 14,
    "start_time": "2022-07-03T16:54:22.002Z"
   },
   {
    "duration": 22,
    "start_time": "2022-07-03T16:54:47.908Z"
   },
   {
    "duration": 144,
    "start_time": "2022-07-03T16:55:01.600Z"
   },
   {
    "duration": 19,
    "start_time": "2022-07-03T16:55:43.238Z"
   },
   {
    "duration": 136,
    "start_time": "2022-07-03T16:55:54.239Z"
   },
   {
    "duration": 138,
    "start_time": "2022-07-03T16:56:47.676Z"
   },
   {
    "duration": 147,
    "start_time": "2022-07-03T16:57:13.702Z"
   },
   {
    "duration": 8,
    "start_time": "2022-07-03T17:09:22.020Z"
   },
   {
    "duration": 9,
    "start_time": "2022-07-03T17:09:37.048Z"
   },
   {
    "duration": 10,
    "start_time": "2022-07-03T17:09:42.322Z"
   },
   {
    "duration": 9,
    "start_time": "2022-07-03T17:10:16.099Z"
   },
   {
    "duration": 10,
    "start_time": "2022-07-03T17:10:21.595Z"
   },
   {
    "duration": 5,
    "start_time": "2022-07-03T17:10:30.849Z"
   },
   {
    "duration": 10,
    "start_time": "2022-07-03T17:10:46.118Z"
   },
   {
    "duration": 10,
    "start_time": "2022-07-03T17:10:48.751Z"
   },
   {
    "duration": 18,
    "start_time": "2022-07-03T17:11:41.876Z"
   },
   {
    "duration": 19,
    "start_time": "2022-07-03T17:11:46.731Z"
   },
   {
    "duration": 23,
    "start_time": "2022-07-03T17:12:43.797Z"
   },
   {
    "duration": 9,
    "start_time": "2022-07-03T17:12:57.900Z"
   },
   {
    "duration": 16,
    "start_time": "2022-07-03T17:13:07.176Z"
   },
   {
    "duration": 62,
    "start_time": "2022-07-03T17:15:37.640Z"
   },
   {
    "duration": 28,
    "start_time": "2022-07-03T17:15:43.881Z"
   },
   {
    "duration": 22,
    "start_time": "2022-07-03T17:16:09.838Z"
   },
   {
    "duration": 145,
    "start_time": "2022-07-03T17:17:08.461Z"
   },
   {
    "duration": 33,
    "start_time": "2022-07-03T17:24:05.086Z"
   },
   {
    "duration": 46,
    "start_time": "2022-07-03T17:37:36.245Z"
   },
   {
    "duration": 52,
    "start_time": "2022-07-03T17:38:25.812Z"
   },
   {
    "duration": 304,
    "start_time": "2022-07-03T17:39:03.483Z"
   },
   {
    "duration": 27,
    "start_time": "2022-07-03T17:41:10.784Z"
   },
   {
    "duration": 298,
    "start_time": "2022-07-03T17:41:12.716Z"
   },
   {
    "duration": 217,
    "start_time": "2022-07-03T17:43:13.288Z"
   },
   {
    "duration": 137,
    "start_time": "2022-07-03T17:43:25.315Z"
   },
   {
    "duration": 200,
    "start_time": "2022-07-03T17:43:50.212Z"
   },
   {
    "duration": 140,
    "start_time": "2022-07-03T17:44:10.155Z"
   },
   {
    "duration": 194,
    "start_time": "2022-07-03T17:44:43.389Z"
   },
   {
    "duration": 167,
    "start_time": "2022-07-03T17:45:00.188Z"
   },
   {
    "duration": 163,
    "start_time": "2022-07-03T17:45:13.560Z"
   },
   {
    "duration": 144,
    "start_time": "2022-07-03T17:47:05.456Z"
   },
   {
    "duration": 163,
    "start_time": "2022-07-03T17:47:35.792Z"
   },
   {
    "duration": 131,
    "start_time": "2022-07-03T17:49:17.161Z"
   },
   {
    "duration": 160,
    "start_time": "2022-07-03T17:50:06.290Z"
   },
   {
    "duration": 15,
    "start_time": "2022-07-03T17:50:21.689Z"
   },
   {
    "duration": 15,
    "start_time": "2022-07-03T17:50:44.176Z"
   },
   {
    "duration": 156,
    "start_time": "2022-07-03T17:50:54.143Z"
   },
   {
    "duration": 216,
    "start_time": "2022-07-03T17:51:14.556Z"
   },
   {
    "duration": 6,
    "start_time": "2022-07-03T17:56:19.202Z"
   },
   {
    "duration": 51,
    "start_time": "2022-07-03T18:02:44.838Z"
   },
   {
    "duration": 859,
    "start_time": "2022-07-03T18:06:16.212Z"
   },
   {
    "duration": 46,
    "start_time": "2022-07-03T18:06:17.073Z"
   },
   {
    "duration": 27,
    "start_time": "2022-07-03T18:06:17.120Z"
   },
   {
    "duration": 4,
    "start_time": "2022-07-03T18:06:17.150Z"
   },
   {
    "duration": 23,
    "start_time": "2022-07-03T18:06:17.157Z"
   },
   {
    "duration": 10,
    "start_time": "2022-07-03T18:06:17.182Z"
   },
   {
    "duration": 7,
    "start_time": "2022-07-03T18:06:17.194Z"
   },
   {
    "duration": 47,
    "start_time": "2022-07-03T18:06:17.203Z"
   },
   {
    "duration": 8,
    "start_time": "2022-07-03T18:06:17.252Z"
   },
   {
    "duration": 10,
    "start_time": "2022-07-03T18:06:17.261Z"
   },
   {
    "duration": 16,
    "start_time": "2022-07-03T18:06:17.273Z"
   },
   {
    "duration": 41,
    "start_time": "2022-07-03T18:06:17.291Z"
   },
   {
    "duration": 9,
    "start_time": "2022-07-03T18:06:17.335Z"
   },
   {
    "duration": 32,
    "start_time": "2022-07-03T18:06:17.348Z"
   },
   {
    "duration": 690,
    "start_time": "2022-07-03T18:06:17.382Z"
   },
   {
    "duration": 381,
    "start_time": "2022-07-03T18:06:18.074Z"
   },
   {
    "duration": 9,
    "start_time": "2022-07-03T18:06:18.456Z"
   },
   {
    "duration": 13,
    "start_time": "2022-07-03T18:06:18.467Z"
   },
   {
    "duration": 594,
    "start_time": "2022-07-03T18:06:18.482Z"
   },
   {
    "duration": 418,
    "start_time": "2022-07-03T18:06:19.078Z"
   },
   {
    "duration": 316,
    "start_time": "2022-07-03T18:06:19.498Z"
   },
   {
    "duration": 246,
    "start_time": "2022-07-03T18:06:19.816Z"
   },
   {
    "duration": 17,
    "start_time": "2022-07-03T18:06:20.064Z"
   },
   {
    "duration": 169,
    "start_time": "2022-07-03T18:06:20.083Z"
   },
   {
    "duration": 152,
    "start_time": "2022-07-03T18:06:20.254Z"
   },
   {
    "duration": 36,
    "start_time": "2022-07-03T18:06:20.408Z"
   },
   {
    "duration": 37,
    "start_time": "2022-07-03T18:06:20.446Z"
   },
   {
    "duration": 299,
    "start_time": "2022-07-03T18:06:20.486Z"
   },
   {
    "duration": 302,
    "start_time": "2022-07-03T18:06:20.787Z"
   },
   {
    "duration": 18,
    "start_time": "2022-07-03T18:06:21.091Z"
   },
   {
    "duration": 35,
    "start_time": "2022-07-03T18:06:21.111Z"
   },
   {
    "duration": 194,
    "start_time": "2022-07-03T18:06:21.148Z"
   },
   {
    "duration": 17,
    "start_time": "2022-07-03T18:06:21.344Z"
   },
   {
    "duration": 173,
    "start_time": "2022-07-03T18:06:21.363Z"
   },
   {
    "duration": 19,
    "start_time": "2022-07-03T18:06:21.540Z"
   },
   {
    "duration": 173,
    "start_time": "2022-07-03T18:06:21.561Z"
   },
   {
    "duration": 18,
    "start_time": "2022-07-03T18:06:21.737Z"
   },
   {
    "duration": 152,
    "start_time": "2022-07-03T18:06:21.757Z"
   },
   {
    "duration": 31,
    "start_time": "2022-07-03T18:06:21.911Z"
   },
   {
    "duration": 167,
    "start_time": "2022-07-03T18:06:21.952Z"
   },
   {
    "duration": 22,
    "start_time": "2022-07-03T18:06:22.128Z"
   },
   {
    "duration": 186,
    "start_time": "2022-07-03T18:06:22.151Z"
   },
   {
    "duration": 19,
    "start_time": "2022-07-03T18:06:22.343Z"
   },
   {
    "duration": 149,
    "start_time": "2022-07-03T18:06:22.365Z"
   },
   {
    "duration": 34,
    "start_time": "2022-07-03T18:06:22.516Z"
   },
   {
    "duration": 137,
    "start_time": "2022-07-03T18:06:22.552Z"
   },
   {
    "duration": 15,
    "start_time": "2022-07-03T18:06:22.691Z"
   },
   {
    "duration": 306,
    "start_time": "2022-07-03T18:06:22.708Z"
   },
   {
    "duration": 11,
    "start_time": "2022-07-03T18:06:23.016Z"
   },
   {
    "duration": 26,
    "start_time": "2022-07-03T18:06:23.032Z"
   },
   {
    "duration": 9,
    "start_time": "2022-07-03T18:06:23.060Z"
   },
   {
    "duration": 19,
    "start_time": "2022-07-03T18:06:23.071Z"
   },
   {
    "duration": 10,
    "start_time": "2022-07-03T18:06:23.092Z"
   },
   {
    "duration": 9,
    "start_time": "2022-07-03T18:06:23.104Z"
   },
   {
    "duration": 865,
    "start_time": "2022-07-04T16:20:51.451Z"
   },
   {
    "duration": 96,
    "start_time": "2022-07-04T16:20:52.317Z"
   },
   {
    "duration": 20,
    "start_time": "2022-07-04T16:20:52.415Z"
   },
   {
    "duration": 3,
    "start_time": "2022-07-04T16:20:52.437Z"
   },
   {
    "duration": 23,
    "start_time": "2022-07-04T16:20:52.442Z"
   },
   {
    "duration": 25,
    "start_time": "2022-07-04T16:20:52.471Z"
   },
   {
    "duration": 3,
    "start_time": "2022-07-04T16:20:52.498Z"
   },
   {
    "duration": 14,
    "start_time": "2022-07-04T16:20:52.503Z"
   },
   {
    "duration": 4,
    "start_time": "2022-07-04T16:20:52.519Z"
   },
   {
    "duration": 9,
    "start_time": "2022-07-04T16:20:52.524Z"
   },
   {
    "duration": 14,
    "start_time": "2022-07-04T16:20:52.535Z"
   },
   {
    "duration": 8,
    "start_time": "2022-07-04T16:20:52.550Z"
   },
   {
    "duration": 13,
    "start_time": "2022-07-04T16:20:52.560Z"
   },
   {
    "duration": 27,
    "start_time": "2022-07-04T16:20:52.579Z"
   },
   {
    "duration": 895,
    "start_time": "2022-07-04T16:20:52.608Z"
   },
   {
    "duration": 320,
    "start_time": "2022-07-04T16:20:53.505Z"
   },
   {
    "duration": 8,
    "start_time": "2022-07-04T16:20:53.827Z"
   },
   {
    "duration": 9,
    "start_time": "2022-07-04T16:20:53.837Z"
   },
   {
    "duration": 570,
    "start_time": "2022-07-04T16:20:53.848Z"
   },
   {
    "duration": 396,
    "start_time": "2022-07-04T16:20:54.420Z"
   },
   {
    "duration": 272,
    "start_time": "2022-07-04T16:20:54.818Z"
   },
   {
    "duration": 207,
    "start_time": "2022-07-04T16:20:55.091Z"
   },
   {
    "duration": 15,
    "start_time": "2022-07-04T16:20:55.300Z"
   },
   {
    "duration": 171,
    "start_time": "2022-07-04T16:20:55.317Z"
   },
   {
    "duration": 139,
    "start_time": "2022-07-04T16:20:55.490Z"
   },
   {
    "duration": 17,
    "start_time": "2022-07-04T16:20:55.631Z"
   },
   {
    "duration": 44,
    "start_time": "2022-07-04T16:20:55.649Z"
   },
   {
    "duration": 283,
    "start_time": "2022-07-04T16:20:55.694Z"
   },
   {
    "duration": 209,
    "start_time": "2022-07-04T16:20:55.982Z"
   },
   {
    "duration": 16,
    "start_time": "2022-07-04T16:20:56.194Z"
   },
   {
    "duration": 28,
    "start_time": "2022-07-04T16:20:56.212Z"
   },
   {
    "duration": 170,
    "start_time": "2022-07-04T16:20:56.242Z"
   },
   {
    "duration": 16,
    "start_time": "2022-07-04T16:20:56.414Z"
   },
   {
    "duration": 184,
    "start_time": "2022-07-04T16:20:56.432Z"
   },
   {
    "duration": 15,
    "start_time": "2022-07-04T16:20:56.618Z"
   },
   {
    "duration": 158,
    "start_time": "2022-07-04T16:20:56.635Z"
   },
   {
    "duration": 15,
    "start_time": "2022-07-04T16:20:56.794Z"
   },
   {
    "duration": 144,
    "start_time": "2022-07-04T16:20:56.810Z"
   },
   {
    "duration": 29,
    "start_time": "2022-07-04T16:20:56.956Z"
   },
   {
    "duration": 153,
    "start_time": "2022-07-04T16:20:56.988Z"
   },
   {
    "duration": 26,
    "start_time": "2022-07-04T16:20:57.144Z"
   },
   {
    "duration": 156,
    "start_time": "2022-07-04T16:20:57.176Z"
   },
   {
    "duration": 14,
    "start_time": "2022-07-04T16:20:57.334Z"
   },
   {
    "duration": 142,
    "start_time": "2022-07-04T16:20:57.366Z"
   },
   {
    "duration": 14,
    "start_time": "2022-07-04T16:20:57.510Z"
   },
   {
    "duration": 144,
    "start_time": "2022-07-04T16:20:57.526Z"
   },
   {
    "duration": 18,
    "start_time": "2022-07-04T16:20:57.671Z"
   },
   {
    "duration": 231,
    "start_time": "2022-07-04T16:20:57.691Z"
   },
   {
    "duration": 8,
    "start_time": "2022-07-04T16:20:57.923Z"
   },
   {
    "duration": 10,
    "start_time": "2022-07-04T16:20:57.933Z"
   },
   {
    "duration": 22,
    "start_time": "2022-07-04T16:20:57.945Z"
   },
   {
    "duration": 30,
    "start_time": "2022-07-04T16:20:57.968Z"
   },
   {
    "duration": 8,
    "start_time": "2022-07-04T16:20:57.999Z"
   },
   {
    "duration": 5,
    "start_time": "2022-07-04T16:20:58.009Z"
   },
   {
    "duration": 815,
    "start_time": "2022-07-04T16:59:49.400Z"
   },
   {
    "duration": 40,
    "start_time": "2022-07-04T16:59:50.217Z"
   },
   {
    "duration": 23,
    "start_time": "2022-07-04T16:59:50.258Z"
   },
   {
    "duration": 15,
    "start_time": "2022-07-04T16:59:50.282Z"
   },
   {
    "duration": 15,
    "start_time": "2022-07-04T16:59:50.300Z"
   },
   {
    "duration": 6,
    "start_time": "2022-07-04T16:59:50.316Z"
   },
   {
    "duration": 5,
    "start_time": "2022-07-04T16:59:50.324Z"
   },
   {
    "duration": 16,
    "start_time": "2022-07-04T16:59:50.330Z"
   },
   {
    "duration": 6,
    "start_time": "2022-07-04T16:59:50.360Z"
   },
   {
    "duration": 28,
    "start_time": "2022-07-04T16:59:50.368Z"
   },
   {
    "duration": 19,
    "start_time": "2022-07-04T16:59:50.397Z"
   },
   {
    "duration": 9,
    "start_time": "2022-07-04T16:59:50.418Z"
   },
   {
    "duration": 8,
    "start_time": "2022-07-04T16:59:50.429Z"
   },
   {
    "duration": 33,
    "start_time": "2022-07-04T16:59:50.441Z"
   },
   {
    "duration": 657,
    "start_time": "2022-07-04T16:59:50.482Z"
   },
   {
    "duration": 312,
    "start_time": "2022-07-04T16:59:51.141Z"
   },
   {
    "duration": 27,
    "start_time": "2022-07-04T16:59:51.455Z"
   },
   {
    "duration": 17,
    "start_time": "2022-07-04T16:59:51.484Z"
   },
   {
    "duration": 592,
    "start_time": "2022-07-04T16:59:51.502Z"
   },
   {
    "duration": 404,
    "start_time": "2022-07-04T16:59:52.096Z"
   },
   {
    "duration": 284,
    "start_time": "2022-07-04T16:59:52.501Z"
   },
   {
    "duration": 200,
    "start_time": "2022-07-04T16:59:52.790Z"
   },
   {
    "duration": 15,
    "start_time": "2022-07-04T16:59:52.992Z"
   },
   {
    "duration": 148,
    "start_time": "2022-07-04T16:59:53.009Z"
   },
   {
    "duration": 150,
    "start_time": "2022-07-04T16:59:53.159Z"
   },
   {
    "duration": 16,
    "start_time": "2022-07-04T16:59:53.310Z"
   },
   {
    "duration": 36,
    "start_time": "2022-07-04T16:59:53.327Z"
   },
   {
    "duration": 290,
    "start_time": "2022-07-04T16:59:53.364Z"
   },
   {
    "duration": 228,
    "start_time": "2022-07-04T16:59:53.660Z"
   },
   {
    "duration": 14,
    "start_time": "2022-07-04T16:59:53.891Z"
   },
   {
    "duration": 14,
    "start_time": "2022-07-04T16:59:53.906Z"
   },
   {
    "duration": 147,
    "start_time": "2022-07-04T16:59:53.921Z"
   },
   {
    "duration": 17,
    "start_time": "2022-07-04T16:59:54.069Z"
   },
   {
    "duration": 161,
    "start_time": "2022-07-04T16:59:54.089Z"
   },
   {
    "duration": 25,
    "start_time": "2022-07-04T16:59:54.260Z"
   },
   {
    "duration": 142,
    "start_time": "2022-07-04T16:59:54.289Z"
   },
   {
    "duration": 13,
    "start_time": "2022-07-04T16:59:54.433Z"
   },
   {
    "duration": 153,
    "start_time": "2022-07-04T16:59:54.447Z"
   },
   {
    "duration": 14,
    "start_time": "2022-07-04T16:59:54.601Z"
   },
   {
    "duration": 186,
    "start_time": "2022-07-04T16:59:54.616Z"
   },
   {
    "duration": 13,
    "start_time": "2022-07-04T16:59:54.806Z"
   },
   {
    "duration": 179,
    "start_time": "2022-07-04T16:59:54.821Z"
   },
   {
    "duration": 14,
    "start_time": "2022-07-04T16:59:55.002Z"
   },
   {
    "duration": 177,
    "start_time": "2022-07-04T16:59:55.017Z"
   },
   {
    "duration": 17,
    "start_time": "2022-07-04T16:59:55.196Z"
   },
   {
    "duration": 182,
    "start_time": "2022-07-04T16:59:55.215Z"
   },
   {
    "duration": 14,
    "start_time": "2022-07-04T16:59:55.399Z"
   },
   {
    "duration": 258,
    "start_time": "2022-07-04T16:59:55.415Z"
   },
   {
    "duration": 13,
    "start_time": "2022-07-04T16:59:55.675Z"
   },
   {
    "duration": 12,
    "start_time": "2022-07-04T16:59:55.689Z"
   },
   {
    "duration": 10,
    "start_time": "2022-07-04T16:59:55.703Z"
   },
   {
    "duration": 9,
    "start_time": "2022-07-04T16:59:55.714Z"
   },
   {
    "duration": 11,
    "start_time": "2022-07-04T16:59:55.724Z"
   },
   {
    "duration": 8,
    "start_time": "2022-07-04T16:59:55.736Z"
   },
   {
    "duration": 224,
    "start_time": "2022-07-04T17:01:23.198Z"
   },
   {
    "duration": 273,
    "start_time": "2022-07-04T17:02:05.161Z"
   }
  ],
  "kernelspec": {
   "display_name": "Python 3 (ipykernel)",
   "language": "python",
   "name": "python3"
  },
  "language_info": {
   "codemirror_mode": {
    "name": "ipython",
    "version": 3
   },
   "file_extension": ".py",
   "mimetype": "text/x-python",
   "name": "python",
   "nbconvert_exporter": "python",
   "pygments_lexer": "ipython3",
   "version": "3.9.5"
  },
  "toc": {
   "base_numbering": 1,
   "nav_menu": {},
   "number_sections": true,
   "sideBar": true,
   "skip_h1_title": true,
   "title_cell": "Table of Contents",
   "title_sidebar": "Contents",
   "toc_cell": false,
   "toc_position": {},
   "toc_section_display": true,
   "toc_window_display": false
  }
 },
 "nbformat": 4,
 "nbformat_minor": 2
}
